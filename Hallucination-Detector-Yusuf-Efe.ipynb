{
  "nbformat": 4,
  "nbformat_minor": 0,
  "metadata": {
    "colab": {
      "provenance": [],
      "gpuType": "T4"
    },
    "kernelspec": {
      "name": "python3",
      "display_name": "Python 3"
    },
    "language_info": {
      "name": "python"
    },
    "widgets": {
      "application/vnd.jupyter.widget-state+json": {
        "d8369814218a490eb984e2351ca1da81": {
          "model_module": "@jupyter-widgets/controls",
          "model_name": "HBoxModel",
          "model_module_version": "1.5.0",
          "state": {
            "_dom_classes": [],
            "_model_module": "@jupyter-widgets/controls",
            "_model_module_version": "1.5.0",
            "_model_name": "HBoxModel",
            "_view_count": null,
            "_view_module": "@jupyter-widgets/controls",
            "_view_module_version": "1.5.0",
            "_view_name": "HBoxView",
            "box_style": "",
            "children": [
              "IPY_MODEL_08977d5eff334295b5cfc843adefaccc",
              "IPY_MODEL_579abe37962344caa0e69754f5c2c8c3",
              "IPY_MODEL_f4100cdb6e3d450b86117f39fad3ccea"
            ],
            "layout": "IPY_MODEL_343739c3d1104f048ce81770d32b0eee"
          }
        },
        "08977d5eff334295b5cfc843adefaccc": {
          "model_module": "@jupyter-widgets/controls",
          "model_name": "HTMLModel",
          "model_module_version": "1.5.0",
          "state": {
            "_dom_classes": [],
            "_model_module": "@jupyter-widgets/controls",
            "_model_module_version": "1.5.0",
            "_model_name": "HTMLModel",
            "_view_count": null,
            "_view_module": "@jupyter-widgets/controls",
            "_view_module_version": "1.5.0",
            "_view_name": "HTMLView",
            "description": "",
            "description_tooltip": null,
            "layout": "IPY_MODEL_9dbcdb71e2c54b419bb93e2dc3e33f0b",
            "placeholder": "​",
            "style": "IPY_MODEL_fa4a4e552be14bdaafeef84c54c77254",
            "value": "Loading checkpoint shards: 100%"
          }
        },
        "579abe37962344caa0e69754f5c2c8c3": {
          "model_module": "@jupyter-widgets/controls",
          "model_name": "FloatProgressModel",
          "model_module_version": "1.5.0",
          "state": {
            "_dom_classes": [],
            "_model_module": "@jupyter-widgets/controls",
            "_model_module_version": "1.5.0",
            "_model_name": "FloatProgressModel",
            "_view_count": null,
            "_view_module": "@jupyter-widgets/controls",
            "_view_module_version": "1.5.0",
            "_view_name": "ProgressView",
            "bar_style": "success",
            "description": "",
            "description_tooltip": null,
            "layout": "IPY_MODEL_1c4c531e32e940bf84e95d6e3aeb61e5",
            "max": 2,
            "min": 0,
            "orientation": "horizontal",
            "style": "IPY_MODEL_85715cebf1e54cde803387bdcb9a5f4f",
            "value": 2
          }
        },
        "f4100cdb6e3d450b86117f39fad3ccea": {
          "model_module": "@jupyter-widgets/controls",
          "model_name": "HTMLModel",
          "model_module_version": "1.5.0",
          "state": {
            "_dom_classes": [],
            "_model_module": "@jupyter-widgets/controls",
            "_model_module_version": "1.5.0",
            "_model_name": "HTMLModel",
            "_view_count": null,
            "_view_module": "@jupyter-widgets/controls",
            "_view_module_version": "1.5.0",
            "_view_name": "HTMLView",
            "description": "",
            "description_tooltip": null,
            "layout": "IPY_MODEL_1c6fdf4f63494f42b0cf392265cce56f",
            "placeholder": "​",
            "style": "IPY_MODEL_791d52b5630340fb8307b8c4e29f8bc8",
            "value": " 2/2 [00:23&lt;00:00,  9.82s/it]"
          }
        },
        "343739c3d1104f048ce81770d32b0eee": {
          "model_module": "@jupyter-widgets/base",
          "model_name": "LayoutModel",
          "model_module_version": "1.2.0",
          "state": {
            "_model_module": "@jupyter-widgets/base",
            "_model_module_version": "1.2.0",
            "_model_name": "LayoutModel",
            "_view_count": null,
            "_view_module": "@jupyter-widgets/base",
            "_view_module_version": "1.2.0",
            "_view_name": "LayoutView",
            "align_content": null,
            "align_items": null,
            "align_self": null,
            "border": null,
            "bottom": null,
            "display": null,
            "flex": null,
            "flex_flow": null,
            "grid_area": null,
            "grid_auto_columns": null,
            "grid_auto_flow": null,
            "grid_auto_rows": null,
            "grid_column": null,
            "grid_gap": null,
            "grid_row": null,
            "grid_template_areas": null,
            "grid_template_columns": null,
            "grid_template_rows": null,
            "height": null,
            "justify_content": null,
            "justify_items": null,
            "left": null,
            "margin": null,
            "max_height": null,
            "max_width": null,
            "min_height": null,
            "min_width": null,
            "object_fit": null,
            "object_position": null,
            "order": null,
            "overflow": null,
            "overflow_x": null,
            "overflow_y": null,
            "padding": null,
            "right": null,
            "top": null,
            "visibility": null,
            "width": null
          }
        },
        "9dbcdb71e2c54b419bb93e2dc3e33f0b": {
          "model_module": "@jupyter-widgets/base",
          "model_name": "LayoutModel",
          "model_module_version": "1.2.0",
          "state": {
            "_model_module": "@jupyter-widgets/base",
            "_model_module_version": "1.2.0",
            "_model_name": "LayoutModel",
            "_view_count": null,
            "_view_module": "@jupyter-widgets/base",
            "_view_module_version": "1.2.0",
            "_view_name": "LayoutView",
            "align_content": null,
            "align_items": null,
            "align_self": null,
            "border": null,
            "bottom": null,
            "display": null,
            "flex": null,
            "flex_flow": null,
            "grid_area": null,
            "grid_auto_columns": null,
            "grid_auto_flow": null,
            "grid_auto_rows": null,
            "grid_column": null,
            "grid_gap": null,
            "grid_row": null,
            "grid_template_areas": null,
            "grid_template_columns": null,
            "grid_template_rows": null,
            "height": null,
            "justify_content": null,
            "justify_items": null,
            "left": null,
            "margin": null,
            "max_height": null,
            "max_width": null,
            "min_height": null,
            "min_width": null,
            "object_fit": null,
            "object_position": null,
            "order": null,
            "overflow": null,
            "overflow_x": null,
            "overflow_y": null,
            "padding": null,
            "right": null,
            "top": null,
            "visibility": null,
            "width": null
          }
        },
        "fa4a4e552be14bdaafeef84c54c77254": {
          "model_module": "@jupyter-widgets/controls",
          "model_name": "DescriptionStyleModel",
          "model_module_version": "1.5.0",
          "state": {
            "_model_module": "@jupyter-widgets/controls",
            "_model_module_version": "1.5.0",
            "_model_name": "DescriptionStyleModel",
            "_view_count": null,
            "_view_module": "@jupyter-widgets/base",
            "_view_module_version": "1.2.0",
            "_view_name": "StyleView",
            "description_width": ""
          }
        },
        "1c4c531e32e940bf84e95d6e3aeb61e5": {
          "model_module": "@jupyter-widgets/base",
          "model_name": "LayoutModel",
          "model_module_version": "1.2.0",
          "state": {
            "_model_module": "@jupyter-widgets/base",
            "_model_module_version": "1.2.0",
            "_model_name": "LayoutModel",
            "_view_count": null,
            "_view_module": "@jupyter-widgets/base",
            "_view_module_version": "1.2.0",
            "_view_name": "LayoutView",
            "align_content": null,
            "align_items": null,
            "align_self": null,
            "border": null,
            "bottom": null,
            "display": null,
            "flex": null,
            "flex_flow": null,
            "grid_area": null,
            "grid_auto_columns": null,
            "grid_auto_flow": null,
            "grid_auto_rows": null,
            "grid_column": null,
            "grid_gap": null,
            "grid_row": null,
            "grid_template_areas": null,
            "grid_template_columns": null,
            "grid_template_rows": null,
            "height": null,
            "justify_content": null,
            "justify_items": null,
            "left": null,
            "margin": null,
            "max_height": null,
            "max_width": null,
            "min_height": null,
            "min_width": null,
            "object_fit": null,
            "object_position": null,
            "order": null,
            "overflow": null,
            "overflow_x": null,
            "overflow_y": null,
            "padding": null,
            "right": null,
            "top": null,
            "visibility": null,
            "width": null
          }
        },
        "85715cebf1e54cde803387bdcb9a5f4f": {
          "model_module": "@jupyter-widgets/controls",
          "model_name": "ProgressStyleModel",
          "model_module_version": "1.5.0",
          "state": {
            "_model_module": "@jupyter-widgets/controls",
            "_model_module_version": "1.5.0",
            "_model_name": "ProgressStyleModel",
            "_view_count": null,
            "_view_module": "@jupyter-widgets/base",
            "_view_module_version": "1.2.0",
            "_view_name": "StyleView",
            "bar_color": null,
            "description_width": ""
          }
        },
        "1c6fdf4f63494f42b0cf392265cce56f": {
          "model_module": "@jupyter-widgets/base",
          "model_name": "LayoutModel",
          "model_module_version": "1.2.0",
          "state": {
            "_model_module": "@jupyter-widgets/base",
            "_model_module_version": "1.2.0",
            "_model_name": "LayoutModel",
            "_view_count": null,
            "_view_module": "@jupyter-widgets/base",
            "_view_module_version": "1.2.0",
            "_view_name": "LayoutView",
            "align_content": null,
            "align_items": null,
            "align_self": null,
            "border": null,
            "bottom": null,
            "display": null,
            "flex": null,
            "flex_flow": null,
            "grid_area": null,
            "grid_auto_columns": null,
            "grid_auto_flow": null,
            "grid_auto_rows": null,
            "grid_column": null,
            "grid_gap": null,
            "grid_row": null,
            "grid_template_areas": null,
            "grid_template_columns": null,
            "grid_template_rows": null,
            "height": null,
            "justify_content": null,
            "justify_items": null,
            "left": null,
            "margin": null,
            "max_height": null,
            "max_width": null,
            "min_height": null,
            "min_width": null,
            "object_fit": null,
            "object_position": null,
            "order": null,
            "overflow": null,
            "overflow_x": null,
            "overflow_y": null,
            "padding": null,
            "right": null,
            "top": null,
            "visibility": null,
            "width": null
          }
        },
        "791d52b5630340fb8307b8c4e29f8bc8": {
          "model_module": "@jupyter-widgets/controls",
          "model_name": "DescriptionStyleModel",
          "model_module_version": "1.5.0",
          "state": {
            "_model_module": "@jupyter-widgets/controls",
            "_model_module_version": "1.5.0",
            "_model_name": "DescriptionStyleModel",
            "_view_count": null,
            "_view_module": "@jupyter-widgets/base",
            "_view_module_version": "1.2.0",
            "_view_name": "StyleView",
            "description_width": ""
          }
        }
      }
    },
    "accelerator": "GPU"
  },
  "cells": [
    {
      "cell_type": "markdown",
      "source": [
        "# FINAL PIPELINE SUMMARY\n",
        "# 0) Environment Set Up\n",
        "# 1) Data Preprocessing\n",
        "# 2) Loading the Models and the Tokenizers\n",
        "# 3) Model Explanation and Testing\n",
        "# 4) Method Implementation\n",
        "# 5) Batch Processing of the Method\n",
        "# 6) Answer Clustering and Semantic Entropy Calculation\n",
        "# 7) Hallucination Detection Model - Trained to predict the label\n",
        "# 8) Hallucination Detection Model - Trained to predict the semantic entropy score\n",
        "# 9) Discussions\n"
      ],
      "metadata": {
        "id": "5l_CnbYrzW42"
      }
    },
    {
      "cell_type": "markdown",
      "source": [
        "## 0) Environment Set Up\n",
        "Installing/importing required libraries and setting up Hugginface and Google Drive Connections"
      ],
      "metadata": {
        "id": "QqvzX3Nbw3QK"
      }
    },
    {
      "cell_type": "code",
      "source": [
        "!pip install transformers datasets torch tqdm scikit-learn matplotlib accelerate"
      ],
      "metadata": {
        "collapsed": true,
        "id": "xixufJkFznfS"
      },
      "execution_count": null,
      "outputs": []
    },
    {
      "cell_type": "code",
      "source": [
        "import torch\n",
        "import accelerate\n",
        "from torch.nn import functional as F\n",
        "from transformers import AutoTokenizer, AutoModelForCausalLM, AutoModelForSequenceClassification\n",
        "from datasets import load_from_disk, load_dataset\n",
        "import random\n",
        "import math\n",
        "import os\n",
        "from google.colab import drive\n",
        "import numpy as np\n",
        "from tqdm import tqdm\n",
        "import matplotlib.pyplot as plt\n",
        "from sklearn.linear_model import LogisticRegression\n",
        "from sklearn.preprocessing import StandardScaler\n",
        "from sklearn.model_selection import train_test_split"
      ],
      "metadata": {
        "id": "_CmzVHNozwZ4"
      },
      "execution_count": null,
      "outputs": []
    },
    {
      "cell_type": "code",
      "source": [
        "import os\n",
        "token = os.environ['HF_TOKEN']"
      ],
      "metadata": {
        "id": "m0_mZ77U0y-H"
      },
      "execution_count": null,
      "outputs": []
    },
    {
      "cell_type": "code",
      "source": [
        "from google.colab import drive\n",
        "drive.mount('/content/drive')"
      ],
      "metadata": {
        "colab": {
          "base_uri": "https://localhost:8080/"
        },
        "id": "HYjJDHzv4SUC",
        "outputId": "cb7c8488-f2ce-47f0-8765-31a5601bbf42"
      },
      "execution_count": null,
      "outputs": [
        {
          "output_type": "stream",
          "name": "stdout",
          "text": [
            "Drive already mounted at /content/drive; to attempt to forcibly remount, call drive.mount(\"/content/drive\", force_remount=True).\n"
          ]
        }
      ]
    },
    {
      "cell_type": "code",
      "source": [
        "# Define the base path in your Google Drive\n",
        "base_path = \"/content/drive/MyDrive/hallucination-detector/\"\n",
        "\n",
        "# Create the directory if it doesn't exist\n",
        "import os\n",
        "os.makedirs(base_path, exist_ok=True)"
      ],
      "metadata": {
        "id": "RWcLr5HE-0ca"
      },
      "execution_count": null,
      "outputs": []
    },
    {
      "cell_type": "markdown",
      "source": [
        "## 1) Data Preprocessing\n",
        "In the scope of the project, we decided to focus on questions that do not require context to be answered. Therefore, we selected TriviQA's data samples that lack context content (it was reported that these questions are designed to be answered without context).\n",
        "\n",
        "Additionally, the test_dataset part of TriviaQA does not publicly provide labels to maintain a private leaderboard. As a result, we created our test data using the validation split of the dataset.\n",
        "\n",
        "We generated the training and validation splits using the training split of the TriviaQA dataset."
      ],
      "metadata": {
        "id": "6LCYay2KzWyY"
      }
    },
    {
      "cell_type": "code",
      "execution_count": null,
      "metadata": {
        "collapsed": true,
        "id": "3QeEdTo9zVmt"
      },
      "outputs": [],
      "source": [
        "#IF THE DATA SET IS ALREADY PROCESSED, SKIP FROM HERE 1:\n",
        "train_dataset = load_dataset(\"mandarjoshi/trivia_qa\", \"rc\", split=\"train\", token=token)\n",
        "valid_dataset = load_dataset(\"mandarjoshi/trivia_qa\", \"rc\", split=\"validation\", token=token)\n",
        "test_dataset  = load_dataset(\"mandarjoshi/trivia_qa\", \"rc\", split=\"test\", token=token)"
      ]
    },
    {
      "cell_type": "code",
      "source": [
        "# Contexts are merged and the labels are reformatted\n",
        "def format_dataset(example):\n",
        "    example[\"context\"] = \" \".join((\"\\n\".join(example[\"entity_pages\"][\"wiki_context\"])).split(\"\\n\"))\n",
        "    example[\"targets\"] = example[\"answer\"][\"aliases\"]\n",
        "    example[\"norm_target\"] = example[\"answer\"][\"normalized_value\"]\n",
        "    return example\n",
        "\n",
        "# Applying the above function to the data set\n",
        "train_ds = train_dataset.map(format_dataset, remove_columns=[\"search_results\", \"question_source\", \"entity_pages\", \"answer\", \"question_id\"])\n",
        "valid_ds = valid_dataset.map(format_dataset, remove_columns=[\"search_results\", \"question_source\", \"entity_pages\", \"answer\", \"question_id\"])\n",
        "\n",
        "# Selecting the samples with empty context\n",
        "train_ds = train_ds.filter(lambda x: len(x['context']) == 0)\n",
        "valid_ds = valid_ds.filter(lambda x: len(x['context']) == 0)"
      ],
      "metadata": {
        "id": "CG9B0k-OnArY"
      },
      "execution_count": null,
      "outputs": []
    },
    {
      "cell_type": "markdown",
      "source": [
        "Utilizing these, let's define our training/validation/test splits"
      ],
      "metadata": {
        "id": "JTEdbi-40uPE"
      }
    },
    {
      "cell_type": "code",
      "source": [
        "# Shuffling the data sets\n",
        "train_ds = train_ds.shuffle(seed=42)\n",
        "valid_ds = valid_ds.shuffle(seed=42)\n",
        "\n",
        "# Select the first 6000 rows of train_ds as the training dataset\n",
        "train_split = train_ds.select(range(6000))\n",
        "\n",
        "# Select the next 2000 rows of train_ds as the validation dataset\n",
        "valid_split = train_ds.select(range(6000, 8000))\n",
        "\n",
        "# Use the shuffled valid_ds as the test dataset\n",
        "test_split = valid_ds.select(range(1800))"
      ],
      "metadata": {
        "id": "bPBEaKTU0tiB"
      },
      "execution_count": null,
      "outputs": []
    },
    {
      "cell_type": "code",
      "source": [
        "print(f\"training split size: {len(train_split)}\")\n",
        "print(f\"validation split size: {len(valid_split)}\")\n",
        "print(f\"test split size: {len(test_split)}\")"
      ],
      "metadata": {
        "colab": {
          "base_uri": "https://localhost:8080/"
        },
        "id": "gY6sMZTF2eMn",
        "outputId": "c1fc074f-d274-4cfa-c81e-e7f9e3c2f67d"
      },
      "execution_count": null,
      "outputs": [
        {
          "output_type": "stream",
          "name": "stdout",
          "text": [
            "training split size: 6000\n",
            "validation split size: 2000\n",
            "test split size: 1800\n"
          ]
        }
      ]
    },
    {
      "cell_type": "markdown",
      "source": [
        "Here, we are saving our data sets to Drive to make the future environment setup easier"
      ],
      "metadata": {
        "id": "7uv5jAwgz_nP"
      }
    },
    {
      "cell_type": "code",
      "source": [
        "# Define the base path for the nocontext_subset folder in your Google Drive\n",
        "nocontext_subset_path = os.path.join(base_path, \"nocontext_subset\")\n",
        "\n",
        "# Create the directory if it doesn't exist\n",
        "os.makedirs(nocontext_subset_path, exist_ok=True)\n",
        "\n",
        "# Define file paths\n",
        "train_file_path = os.path.join(nocontext_subset_path, \"train_processed.jsonl\")\n",
        "valid_file_path = os.path.join(nocontext_subset_path, \"valid_processed.jsonl\")\n",
        "test_file_path = os.path.join(nocontext_subset_path, \"test_processed.jsonl\")\n",
        "\n",
        "# Save datasets to JSONL\n",
        "train_split.to_json(train_file_path)\n",
        "valid_split.to_json(valid_file_path)\n",
        "test_split.to_json(test_file_path)\n",
        "\n",
        "\n",
        "print(f\"Train dataset saved to {train_file_path}\")\n",
        "print(f\"Validation dataset saved to {valid_file_path}\")\n",
        "print(f\"Test dataset saved to {test_file_path}\")"
      ],
      "metadata": {
        "id": "pofZb36kosQo"
      },
      "execution_count": null,
      "outputs": []
    },
    {
      "cell_type": "markdown",
      "source": [
        "Loading the data from Google Drive"
      ],
      "metadata": {
        "id": "gs95MtiE0Hm3"
      }
    },
    {
      "cell_type": "code",
      "source": [
        "#IF THE DATA SET IS ALREADY PROCESSED, SKIP TO HERE 1:\n",
        "\n",
        "# Define the base path for the nocontext_subset folder in your Google Drive\n",
        "nocontext_subset_path = os.path.join(base_path, \"nocontext_subset\")\n",
        "\n",
        "# Define file paths\n",
        "train_file_path = os.path.join(nocontext_subset_path, \"train_processed.jsonl\")\n",
        "valid_file_path = os.path.join(nocontext_subset_path, \"valid_processed.jsonl\")\n",
        "test_file_path = os.path.join(nocontext_subset_path, \"test_processed.jsonl\")\n",
        "\n",
        "# Load the datasets from JSONL files\n",
        "train_dataset = load_dataset('json', data_files=train_file_path, split='train')\n",
        "valid_dataset = load_dataset('json', data_files=valid_file_path, split='train')\n",
        "test_dataset = load_dataset('json', data_files=test_file_path, split='train')"
      ],
      "metadata": {
        "id": "xDbOQjFVxDEm"
      },
      "execution_count": null,
      "outputs": []
    },
    {
      "cell_type": "code",
      "source": [
        "print(f\"training split size: {len(train_dataset)}\")\n",
        "print(f\"validation split size: {len(valid_dataset)}\")\n",
        "print(f\"test split size: {len(test_dataset)}\")"
      ],
      "metadata": {
        "colab": {
          "base_uri": "https://localhost:8080/"
        },
        "id": "opVgxPCu7Ezw",
        "outputId": "ed086f02-648f-436f-ae53-4a9e8a189534"
      },
      "execution_count": null,
      "outputs": [
        {
          "output_type": "stream",
          "name": "stdout",
          "text": [
            "training split size: 6000\n",
            "validation split size: 2000\n",
            "test split size: 1800\n"
          ]
        }
      ]
    },
    {
      "cell_type": "code",
      "source": [
        "def check_dataset(dataset, name):\n",
        "    print(f\"\\nChecking {name} dataset:\")\n",
        "    print(f\"Number of samples: {len(dataset)}\")\n",
        "    print(f\"Features: {dataset.features}\")\n",
        "\n",
        "    # Check for empty contexts\n",
        "    empty_contexts = sum(1 for sample in dataset if len(sample['context']) == 0)\n",
        "    print(f\"Number of samples with empty contexts: {empty_contexts}\")\n",
        "\n",
        "    # Print a random sample\n",
        "    random_sample = random.choice(dataset)\n",
        "    print(\"\\nRandom sample:\")\n",
        "    print(f\"Question: {random_sample['question']}\")\n",
        "    print(f\"Context (first 100 characters): {random_sample['context'][:100]}...\")\n",
        "    print(f\"Targets: {random_sample['targets']}\")\n",
        "    print(f\"Normalized Target: {random_sample['norm_target']}\")\n",
        "\n",
        "    # Check data types\n",
        "    print(\"\\nData types:\")\n",
        "    for key, value in random_sample.items():\n",
        "        print(f\"{key}: {type(value)}\")\n",
        "\n",
        "\n",
        "# Check each dataset\n",
        "for dataset, name in zip([train_dataset, valid_dataset, test_dataset], ['Training', 'Validation', 'Test']):\n",
        "    check_dataset(dataset, name)\n",
        "\n",
        "# Additional overall checks\n",
        "print(\"\\nOverall checks:\")\n",
        "print(f\"Total samples: {len(train_dataset) + len(valid_dataset) + len(test_dataset)}\")\n",
        "print(f\"Expected total: 10000\")\n",
        "\n",
        "# Check for overlap between sets\n",
        "train_questions = set(train_dataset['question'])\n",
        "valid_questions = set(valid_dataset['question'])\n",
        "test_questions = set(test_dataset['question'])\n",
        "\n",
        "overlap_train_valid = train_questions.intersection(valid_questions)\n",
        "overlap_train_test = train_questions.intersection(test_questions)\n",
        "overlap_valid_test = valid_questions.intersection(test_questions)\n",
        "\n",
        "print(f\"\\nOverlap between Train and Validation sets: {len(overlap_train_valid)}\")\n",
        "print(f\"Overlap between Train and Test sets: {len(overlap_train_test)}\")\n",
        "print(f\"Overlap between Validation and Test sets: {len(overlap_valid_test)}\")"
      ],
      "metadata": {
        "id": "qqaoE2aR51Ms",
        "colab": {
          "base_uri": "https://localhost:8080/"
        },
        "outputId": "aa19203a-756f-4a54-82d8-5ded15a8a6f1"
      },
      "execution_count": null,
      "outputs": [
        {
          "output_type": "stream",
          "name": "stdout",
          "text": [
            "\n",
            "Checking Training dataset:\n",
            "Number of samples: 6000\n",
            "Features: {'question': Value(dtype='string', id=None), 'context': Value(dtype='string', id=None), 'targets': Sequence(feature=Value(dtype='string', id=None), length=-1, id=None), 'norm_target': Value(dtype='string', id=None)}\n",
            "Number of samples with empty contexts: 6000\n",
            "\n",
            "Random sample:\n",
            "Question: What Anglicized German word originally from 'harm-joy' refers to pleasure derived from misfortunes of others?\n",
            "Context (first 100 characters): ...\n",
            "Targets: ['Schadenfraude', 'Schaudenfreuda', 'Schaudenfreude', 'Schadenfroh', 'Morose delectation', 'Schauenfruede', 'Freudenschade', 'Delectatio morosa', 'Schadenfreud', 'Epichaerecacia', 'Epicaricacy', 'Schadenfreund', 'Chardenfreuder', 'Schaudenfraude', 'Schaeunfreude', 'Schadenhausenfreude', 'Schadenfruede', 'Schauenfreude', 'Schadenfreude experiment', 'Shadenfreude', 'Schadenfreuden', 'Epikairekakia', 'Schadenfreude']\n",
            "Normalized Target: schadenfreude\n",
            "\n",
            "Data types:\n",
            "question: <class 'str'>\n",
            "context: <class 'str'>\n",
            "targets: <class 'list'>\n",
            "norm_target: <class 'str'>\n",
            "\n",
            "Checking Validation dataset:\n",
            "Number of samples: 2000\n",
            "Features: {'question': Value(dtype='string', id=None), 'context': Value(dtype='string', id=None), 'targets': Sequence(feature=Value(dtype='string', id=None), length=-1, id=None), 'norm_target': Value(dtype='string', id=None)}\n",
            "Number of samples with empty contexts: 2000\n",
            "\n",
            "Random sample:\n",
            "Question: What was the famous slogan used by Clinton's campaign team in the 1992 Presidential campaign to remind them of the Key issue of the election?\n",
            "Context (first 100 characters): ...\n",
            "Targets: ['Economy stupid', 'Economy, stupid', \"It's the economy, stupid!\", \"It's economy, stupid\", \"It's the constitution, stupid\", \"It's the economy, stupid\", 'It is economy stupid', 'It is the economy, stupid', 'The economy, stupid', \"It's economy stupid\", '\"\"\"IT\\'S THE ECONOMY, STUPID\"\"\"', 'It is economy, stupid', \"It's the economy stupid\", 'It is the economy stupid']\n",
            "Normalized Target: it s economy stupid\n",
            "\n",
            "Data types:\n",
            "question: <class 'str'>\n",
            "context: <class 'str'>\n",
            "targets: <class 'list'>\n",
            "norm_target: <class 'str'>\n",
            "\n",
            "Checking Test dataset:\n",
            "Number of samples: 1800\n",
            "Features: {'question': Value(dtype='string', id=None), 'context': Value(dtype='string', id=None), 'targets': Sequence(feature=Value(dtype='string', id=None), length=-1, id=None), 'norm_target': Value(dtype='string', id=None)}\n",
            "Number of samples with empty contexts: 1800\n",
            "\n",
            "Random sample:\n",
            "Question: Who was the Roman goddess of war, regarded as the sister of Mars?\n",
            "Context (first 100 characters): ...\n",
            "Targets: ['Bellona', 'BELLONA', 'Bellona (disambiguation)']\n",
            "Normalized Target: bellona\n",
            "\n",
            "Data types:\n",
            "question: <class 'str'>\n",
            "context: <class 'str'>\n",
            "targets: <class 'list'>\n",
            "norm_target: <class 'str'>\n",
            "\n",
            "Overall checks:\n",
            "Total samples: 9800\n",
            "Expected total: 10000\n",
            "\n",
            "Overlap between Train and Validation sets: 0\n",
            "Overlap between Train and Test sets: 0\n",
            "Overlap between Validation and Test sets: 0\n"
          ]
        }
      ]
    },
    {
      "cell_type": "markdown",
      "source": [
        "The checks of the dataset splits have been completed, and there are no overlaps between the splits (ensured by verifying that there are no duplicates in the dataset).\n",
        "\n",
        "Thus, data preprocessing, splits, and duplicate checks are finalized. We can now proceed with the model and tokenizer loading phase."
      ],
      "metadata": {
        "id": "25Yu2ufh-FXD"
      }
    },
    {
      "cell_type": "markdown",
      "source": [
        "## 2) Loading the models and the tokenizers"
      ],
      "metadata": {
        "id": "WoTa7n5u77fI"
      }
    },
    {
      "cell_type": "markdown",
      "source": [
        "Let us directly get the models and the tokenizers from huggingface hub:"
      ],
      "metadata": {
        "id": "dV1M0E1WVHGl"
      }
    },
    {
      "cell_type": "code",
      "source": [
        "print(\"Loading Gemma 2B model and tokenizer...\")\n",
        "gemma_tokenizer = AutoTokenizer.from_pretrained(\"google/gemma-2b-it\", token=token)\n",
        "gemma_model = AutoModelForCausalLM.from_pretrained(\n",
        "    \"google/gemma-2b-it\",\n",
        "    device_map=\"auto\",\n",
        "    torch_dtype=torch.bfloat16,\n",
        "    output_hidden_states=True,\n",
        "    token=token\n",
        ")"
      ],
      "metadata": {
        "colab": {
          "base_uri": "https://localhost:8080/",
          "height": 256,
          "referenced_widgets": [
            "d8369814218a490eb984e2351ca1da81",
            "08977d5eff334295b5cfc843adefaccc",
            "579abe37962344caa0e69754f5c2c8c3",
            "f4100cdb6e3d450b86117f39fad3ccea",
            "343739c3d1104f048ce81770d32b0eee",
            "9dbcdb71e2c54b419bb93e2dc3e33f0b",
            "fa4a4e552be14bdaafeef84c54c77254",
            "1c4c531e32e940bf84e95d6e3aeb61e5",
            "85715cebf1e54cde803387bdcb9a5f4f",
            "1c6fdf4f63494f42b0cf392265cce56f",
            "791d52b5630340fb8307b8c4e29f8bc8"
          ]
        },
        "collapsed": true,
        "id": "Jg6samrDVkXX",
        "outputId": "c7693421-e6ec-43ac-c9aa-6529042f467f"
      },
      "execution_count": null,
      "outputs": [
        {
          "output_type": "stream",
          "name": "stdout",
          "text": [
            "Loading Gemma 2B model and tokenizer...\n"
          ]
        },
        {
          "output_type": "stream",
          "name": "stderr",
          "text": [
            "/usr/local/lib/python3.10/dist-packages/huggingface_hub/utils/_token.py:89: UserWarning: \n",
            "The secret `HF_TOKEN` does not exist in your Colab secrets.\n",
            "To authenticate with the Hugging Face Hub, create a token in your settings tab (https://huggingface.co/settings/tokens), set it as secret in your Google Colab and restart your session.\n",
            "You will be able to reuse this secret in all of your notebooks.\n",
            "Please note that authentication is recommended but still optional to access public models or datasets.\n",
            "  warnings.warn(\n",
            "`config.hidden_act` is ignored, you should use `config.hidden_activation` instead.\n",
            "Gemma's activation function will be set to `gelu_pytorch_tanh`. Please, use\n",
            "`config.hidden_activation` if you want to override this behaviour.\n",
            "See https://github.com/huggingface/transformers/pull/29402 for more details.\n"
          ]
        },
        {
          "output_type": "display_data",
          "data": {
            "text/plain": [
              "Loading checkpoint shards:   0%|          | 0/2 [00:00<?, ?it/s]"
            ],
            "application/vnd.jupyter.widget-view+json": {
              "version_major": 2,
              "version_minor": 0,
              "model_id": "d8369814218a490eb984e2351ca1da81"
            }
          },
          "metadata": {}
        }
      ]
    },
    {
      "cell_type": "code",
      "source": [
        "print(\"Loading RoBERTa NLI model and tokenizer...\")\n",
        "nli_tokenizer = AutoTokenizer.from_pretrained(\"roberta-large-mnli\")\n",
        "nli_model = AutoModelForSequenceClassification.from_pretrained(\"roberta-large-mnli\", device_map=\"auto\")"
      ],
      "metadata": {
        "colab": {
          "base_uri": "https://localhost:8080/"
        },
        "collapsed": true,
        "id": "h0RtTrUkVGXq",
        "outputId": "34ae2a31-94fd-4e9a-e531-6aaa234f4418"
      },
      "execution_count": null,
      "outputs": [
        {
          "output_type": "stream",
          "name": "stdout",
          "text": [
            "Loading RoBERTa NLI model and tokenizer...\n"
          ]
        },
        {
          "output_type": "stream",
          "name": "stderr",
          "text": [
            "Some weights of the model checkpoint at roberta-large-mnli were not used when initializing RobertaForSequenceClassification: ['roberta.pooler.dense.bias', 'roberta.pooler.dense.weight']\n",
            "- This IS expected if you are initializing RobertaForSequenceClassification from the checkpoint of a model trained on another task or with another architecture (e.g. initializing a BertForSequenceClassification model from a BertForPreTraining model).\n",
            "- This IS NOT expected if you are initializing RobertaForSequenceClassification from the checkpoint of a model that you expect to be exactly identical (initializing a BertForSequenceClassification model from a BertForSequenceClassification model).\n"
          ]
        }
      ]
    },
    {
      "cell_type": "markdown",
      "source": [
        "# 3) Model Explanation and Testing"
      ],
      "metadata": {
        "id": "ZhdwXnJNHPax"
      }
    },
    {
      "cell_type": "markdown",
      "source": [
        "Let's explain where we will use these models:\n",
        "\n",
        "**Gemma 2B**: This model will be the main model in this work. The objective is to develop a separate hallucination classifier to detect when the Gemma-2B model is likely to hallucinate.\n",
        "\n",
        "**RoBERTa**: To train a hallucination detection model, we will have the Gemma-2B model generate 10 answers for each question in our training data. We will then classify these answers into groups. For example, if the question is \"What is the capital of France?\" and the model's outcomes are \"Paris,\" \"Monaco,\" and \"It is Paris,\" the groups would be:\n",
        "\n",
        "- Group 1: [\"Paris\", \"It is Paris\"]\n",
        "- Group 2: [\"Monaco\"]\n",
        "\n",
        "To group these answers semantically, we will use the RoBERTa model in the bidirectional entailment task. We will append each of the 10 answers to the question and then check the bidirectional entailment scores. If a question-answer pair has a high score (empirically determined threshold) with one of the existing answer groups, it is added to that group. Otherwise, a new answer group is created. As a result, we obtain a list of lists that provides the semantic answer groups for the given question. We then calculate the entropy based on these groups' sizes.\n",
        "\n",
        "The intuition is that if a model is confident about a question, although it can provide answers in different syntactic forms (e.g., \"Paris\" or \"The city of light, Paris\"), they should all mean the same thing. Thus, rather than calculating entropy based on next-token distribution, we calculate it based on the semantic group distribution.\n",
        "\n",
        "**Example**: If the model says \"Paris\" (in different forms) 6 times, \"Berlin\" 3 times, and \"I don't know\" once, the resulting entropy is:\n",
        "\n",
        "\n",
        "-0.6log(0.6) - 0.3log(0.3) - 0.1log(0.1) = 0.9\n",
        "\n",
        "\n",
        "The best case is where all answers mean \"Paris,\" leading to an entropy of 0 (in syntactic entropy methods, this does not lead to 0 since the answer can be written with different wordings).\n",
        "\n",
        "Our goal is to predict this semantic entropy based on the hidden vector of the last token in the question, where higher predictions for the semantic entropy signal the possibility of hallucination.\n"
      ],
      "metadata": {
        "id": "KAVmGlgOC6bb"
      }
    },
    {
      "cell_type": "code",
      "source": [
        "from transformers import AutoTokenizer, AutoModelForCausalLM, AutoModelForSequenceClassification\n",
        "import torch\n",
        "import torch.nn.functional as F\n",
        "\n",
        "device = torch.device(\"cuda\" if torch.cuda.is_available() else \"cpu\")\n",
        "# Test Gemma 2B model\n",
        "print(\"\\nTesting Gemma 2B model:\")\n",
        "question = \"\"\"\n",
        "Question: What is the capital of France?\n",
        "Answer: paris\n",
        "\n",
        "Question: Which birds collect in a convocation?\n",
        "Answer: eagles\n",
        "\n",
        "Question: What is the name of the dog in the Punch and Judy shows?\n",
        "Answer: toby\n",
        "\n",
        "Question: In golf what is the old-fashioned name for a No 3 wood?\n",
        "Answer: spoon\n",
        "\n",
        "Question: When was Turkish Republic founded?\n",
        "Answer: 1923\n",
        "\n",
        "Question: Who is the first president of United States?\n",
        "Answer : \"\"\"\n",
        "\n",
        "\n",
        "inputs = gemma_tokenizer(question, return_tensors=\"pt\").to(device)\n",
        "max_length = inputs.input_ids.size(1) + 20\n",
        "\n",
        "with torch.no_grad():\n",
        "    outputs = gemma_model.generate(**inputs, max_length=max_length, num_return_sequences=1, temperature=0)\n",
        "\n",
        "full_response = gemma_tokenizer.decode(outputs[0], skip_special_tokens=True)\n",
        "answer = full_response[len(question):].strip()\n",
        "#print(f\"Question: {question}\")\n",
        "print(f\"Answer: {answer}\")"
      ],
      "metadata": {
        "colab": {
          "base_uri": "https://localhost:8080/"
        },
        "id": "NI5-CuvxAHrP",
        "outputId": "9651f7b9-c189-44a6-ccbc-aa48ecc7f013"
      },
      "execution_count": null,
      "outputs": [
        {
          "output_type": "stream",
          "name": "stdout",
          "text": [
            "\n",
            "Testing Gemma 2B model:\n"
          ]
        },
        {
          "output_type": "stream",
          "name": "stderr",
          "text": [
            "/usr/local/lib/python3.10/dist-packages/transformers/generation/configuration_utils.py:515: UserWarning: `do_sample` is set to `False`. However, `temperature` is set to `0` -- this flag is only used in sample-based generation modes. You should set `do_sample=True` or unset `temperature`.\n",
            "  warnings.warn(\n"
          ]
        },
        {
          "output_type": "stream",
          "name": "stdout",
          "text": [
            "Answer: 1789 George Washington\n"
          ]
        }
      ]
    },
    {
      "cell_type": "markdown",
      "source": [
        "We decided to use the Gemma-2B model to ensure smooth testing in the free Google Colab environment and prevent the possibility of GPU memory overload. Additionally, since Gemma-2B is more likely to hallucinate due to its size, and considering this work is primarily a proof-of-concept effort, we chose to proceed with the Gemma-2B model.\n",
        "\n",
        "However, our analysis indicates that Gemma-2B performs poorly on the TriviaQA dataset, showing significantly lower accuracy compared to the technical report of Gemma models released by Google in February 2024.\n",
        "\n",
        "To address this, we decided to use a softer evaluation metric for answer accuracy. Instead of requiring an exact match between the ground truth and the model's output, we will check for any word overlap between the prediction and the ground truth and classify the prediction as correct if there is any overlap. To prevent words like \"and, or, to, at, in, etc.\" leading the false positives, we excluded them from the keyword match search. Details can be seend in the evaluations part.\n",
        "\n",
        "For example, the model answers the question about the first US president with \"1789 George Washington\" instead of just \"George Washington.\" We don't want to penalize the model for the extra \"1789\" part since the focus of this study is on hallucination detection rather than answer formatting."
      ],
      "metadata": {
        "id": "onrfJmk0HvVZ"
      }
    },
    {
      "cell_type": "code",
      "source": [
        "# Test RoBERTa NLI model\n",
        "print(\"\\nTesting RoBERTa NLI model:\")\n",
        "premise = \"What is the capital of France? Paris\"\n",
        "hypothesis = \"What is the capital of France? The capital of France is Paris!\"\n",
        "\n",
        "inputs = nli_tokenizer(premise, hypothesis, return_tensors=\"pt\", truncation=True, max_length=512, padding=True).to(device)\n",
        "\n",
        "with torch.no_grad():\n",
        "    outputs = nli_model(**inputs)\n",
        "    probabilities = F.softmax(outputs.logits, dim=-1)\n",
        "\n",
        "entailment_prob = probabilities[0][2].item()\n",
        "print(f\"Premise: {premise}\")\n",
        "print(f\"Hypothesis: {hypothesis}\")\n",
        "print(f\"Entailment probability: {entailment_prob:.4f}\")"
      ],
      "metadata": {
        "id": "ZQLoQIv1AOYD",
        "colab": {
          "base_uri": "https://localhost:8080/"
        },
        "outputId": "3b88f0d1-4c37-4d74-a59e-d24ad29974a5"
      },
      "execution_count": null,
      "outputs": [
        {
          "output_type": "stream",
          "name": "stdout",
          "text": [
            "\n",
            "Testing RoBERTa NLI model:\n",
            "Premise: What is the capital of France? Paris\n",
            "Hypothesis: What is the capital of France? The capital of France is Paris!\n",
            "Entailment probability: 0.9404\n"
          ]
        }
      ]
    },
    {
      "cell_type": "markdown",
      "source": [
        "Thanks to the high bidirectional entailment scores between question-answer pairs with the same meaning, we will cluster the model's answers into groups."
      ],
      "metadata": {
        "id": "ig7FIGO5KkrJ"
      }
    },
    {
      "cell_type": "markdown",
      "source": [
        "## 4) Method Implementation"
      ],
      "metadata": {
        "id": "OTSMJb8XgHA3"
      }
    },
    {
      "cell_type": "markdown",
      "source": [
        "The function below will be used to generate the model's best guess for the question at hand. Therefore, the generation will be done with a temperature of 0. Additionally, we will store the hidden state of the last token in the question from the final layer, as this hidden state will be used to predict the semantic entropy of the question/answer pair and allow us to estimate the hallucination probability."
      ],
      "metadata": {
        "id": "fFmZ-JwURvHd"
      }
    },
    {
      "cell_type": "code",
      "source": [
        "def generate_answer_and_get_embedding(question, model, tokenizer, device, temperature=0, additional_tokens=25):\n",
        "    inputs = tokenizer(question, return_tensors=\"pt\").to(device)\n",
        "    question_length = inputs.input_ids.size(1)\n",
        "    max_length = question_length + additional_tokens\n",
        "\n",
        "    with torch.no_grad():\n",
        "        generation_outputs = model.generate(\n",
        "            **inputs,\n",
        "            max_length=max_length,\n",
        "            num_return_sequences=1,\n",
        "            temperature=temperature,\n",
        "            return_dict_in_generate=True,\n",
        "            output_hidden_states=True\n",
        "        )\n",
        "\n",
        "    generated_sequence = generation_outputs.sequences[0]\n",
        "    full_response = tokenizer.decode(generated_sequence, skip_special_tokens=True)\n",
        "    answer = full_response[len(question):].strip()\n",
        "\n",
        "    # Extract the last token's embedding from the question\n",
        "    last_token_embedding = generation_outputs.hidden_states[0][-1][0][question_length-1].cpu()\n",
        "\n",
        "    return answer, last_token_embedding\n",
        "\n",
        "# Test the function\n",
        "question = \"Which team is Kobe Bryant a legend for?\"\n",
        "test_question = f\"\"\"\n",
        "Question: What is the capital of France?\n",
        "Answer: paris\n",
        "\n",
        "Question: Which birds collect in a convocation?\n",
        "Answer: eagles\n",
        "\n",
        "Question: What is the name of the dog in the Punch and Judy shows?\n",
        "Answer: toby\n",
        "\n",
        "Question: In golf what is the old-fashioned name for a No 3 wood?\n",
        "Answer: spoon\n",
        "\n",
        "Question: When was Turkish Republic founded?\n",
        "Answer: 1923\n",
        "\n",
        "Question: {question}\n",
        "Answer : \"\"\"\n",
        "generated_answer, last_token_embedding = generate_answer_and_get_embedding(test_question, gemma_model, gemma_tokenizer, device)\n",
        "\n",
        "print(f\"Question: {question}\")\n",
        "print(f\"Generated answer (temp=0.1): {generated_answer}\")\n",
        "print(f\"Last token embedding: {last_token_embedding}\")"
      ],
      "metadata": {
        "colab": {
          "base_uri": "https://localhost:8080/"
        },
        "id": "EKCga9JLAwPp",
        "outputId": "60592ac5-37fd-4c7a-c8a2-15047a4155a3"
      },
      "execution_count": null,
      "outputs": [
        {
          "output_type": "stream",
          "name": "stdout",
          "text": [
            "Question: Which team is Kobe Bryant a legend for?\n",
            "Generated answer (temp=0.1): Los Angeles Lakers\n",
            "Last token embedding: tensor([-1.4531, -1.5547, -3.0312,  ...,  0.5977, -0.0386,  0.2559],\n",
            "       dtype=torch.bfloat16)\n"
          ]
        }
      ]
    },
    {
      "cell_type": "markdown",
      "source": [
        "For our training data questions, in addition to running the model with temperature=0 to generate the best guess and storing the last token's hidden state, we will also run the model with temperature=0.8 to generate 10 answers. We will then cluster these 10 answers into semantic groups and calculate the entropy of the answers. The goal is to fit a logistic regression model that will predict the semantic entropy of the answers based solely on the question's last token's embedding.\n",
        "\n",
        "This approach allows us, during test time, to predict whether an output is a hallucination or not by only generating the best guess (without generating 10 answers). Indeed, even without answer generation, we can use this model to understand if the model would hallucinate if we let it generate an answer because whole prediction depends on the hidden state of the last question token."
      ],
      "metadata": {
        "id": "hJK6dPicSyc9"
      }
    },
    {
      "cell_type": "code",
      "source": [
        "def generate_alternative_answers(question, model, tokenizer, device, n=10, temperature=0.8, top_p=0.9, additional_tokens=25):\n",
        "    inputs = tokenizer(question, return_tensors=\"pt\").to(device)\n",
        "    question_length = inputs.input_ids.size(1)\n",
        "    max_length = question_length + additional_tokens\n",
        "\n",
        "    with torch.no_grad():\n",
        "        outputs = model.generate(\n",
        "            **inputs,\n",
        "            max_length=max_length,\n",
        "            num_return_sequences=n,\n",
        "            temperature=temperature,\n",
        "            top_p=top_p,\n",
        "            do_sample=True\n",
        "        )\n",
        "\n",
        "    alternative_answers = []\n",
        "    for output in outputs:\n",
        "        full_response = tokenizer.decode(output, skip_special_tokens=True)\n",
        "        answer = full_response[len(question):].strip()\n",
        "        alternative_answers.append(answer)\n",
        "\n",
        "    return alternative_answers"
      ],
      "metadata": {
        "id": "H99zfGBCA-Xb"
      },
      "execution_count": null,
      "outputs": []
    },
    {
      "cell_type": "markdown",
      "source": [
        "The code below is used to cluster the answers into semantic groups"
      ],
      "metadata": {
        "id": "yJLz70ZNd6rX"
      }
    },
    {
      "cell_type": "code",
      "source": [
        "import torch.nn.functional as F\n",
        "\n",
        "def check_entailment(premise, hypothesis, nli_model, nli_tokenizer, device):\n",
        "    inputs = nli_tokenizer(premise, hypothesis, return_tensors=\"pt\", truncation=True, max_length=512, padding=True).to(device)\n",
        "    with torch.no_grad():\n",
        "        outputs = nli_model(**inputs)\n",
        "        probabilities = F.softmax(outputs.logits, dim=-1)\n",
        "        entailment_prob = probabilities[0][2].item()  # Probability of entailment\n",
        "    return entailment_prob\n",
        "\n",
        "def bidirectional_entailment(text1, text2, nli_model, nli_tokenizer, device):\n",
        "    score1 = check_entailment(text1, text2, nli_model, nli_tokenizer, device)\n",
        "    score2 = check_entailment(text2, text1, nli_model, nli_tokenizer, device)\n",
        "    return max(score1, score2)\n",
        "\n",
        "def cluster_answers(question, answers, nli_model, nli_tokenizer, device, threshold=0.1):\n",
        "    grouped_answers = []\n",
        "    for answer in answers:\n",
        "        qa_pair = f\"{question} {answer}\"\n",
        "        matched = False\n",
        "        for group in grouped_answers:\n",
        "            group_head = f\"{question} {group[0]}\"\n",
        "            if bidirectional_entailment(qa_pair, group_head, nli_model, nli_tokenizer, device) >= threshold:\n",
        "                group.append(answer)\n",
        "                matched = True\n",
        "                break\n",
        "        if not matched:\n",
        "            grouped_answers.append([answer])\n",
        "    return grouped_answers\n",
        "\n",
        "def group_answers(question, answers, nli_model, nli_tokenizer, device, threshold=0.4):\n",
        "    return cluster_answers(question, answers, nli_model, nli_tokenizer, device, threshold)"
      ],
      "metadata": {
        "id": "lmOeUIThBBzS"
      },
      "execution_count": null,
      "outputs": []
    },
    {
      "cell_type": "markdown",
      "source": [
        "And the code below is used to calculate the semantic entropy of the generated answers"
      ],
      "metadata": {
        "id": "9IkQwAg7eE_X"
      }
    },
    {
      "cell_type": "code",
      "source": [
        "import math\n",
        "\n",
        "def calculate_entropy(groups):\n",
        "    total_answers = sum(len(group) for group in groups)\n",
        "    probabilities = [len(group) / total_answers for group in groups]\n",
        "\n",
        "    entropy = 0\n",
        "    for p in probabilities:\n",
        "        if p > 0:  # Avoid log(0)\n",
        "            entropy -= p * math.log2(p)  # Using log base 2 for entropy calculation\n",
        "\n",
        "    return entropy"
      ],
      "metadata": {
        "id": "EUUcV1XeBFpp"
      },
      "execution_count": null,
      "outputs": []
    },
    {
      "cell_type": "markdown",
      "source": [
        "In the following, we see an example of Gemma-2B model generating 10 answers for a given question. After that, these answers are clustered into semantic groups and the corresponding semantic entropy is calculated"
      ],
      "metadata": {
        "id": "ph0P4vrzeNgt"
      }
    },
    {
      "cell_type": "code",
      "source": [
        "question = \"Who is the author of harry potter novels?\"\n",
        "test_question = f\"\"\"\n",
        "Question: What is the capital of France?\n",
        "Answer: paris\n",
        "\n",
        "Question: What is the famous dance move of Michael Jackson?\n",
        "Answer: moonwalk\n",
        "\n",
        "Question: Which birds collect in a convocation?\n",
        "Answer: eagles\n",
        "\n",
        "Question: What is the name of the dog in the Punch and Judy shows?\n",
        "Answer: toby\n",
        "\n",
        "Question: Who is the first president of United States?\n",
        "Answer: george washington\n",
        "\n",
        "Question: {question}\n",
        "Answer : \"\"\"\n",
        "alt_answers = generate_alternative_answers(test_question, gemma_model, gemma_tokenizer, device)\n",
        "print(alt_answers)"
      ],
      "metadata": {
        "colab": {
          "base_uri": "https://localhost:8080/"
        },
        "id": "L-obM6ihBQ7w",
        "outputId": "06fc0f65-6856-4c7c-b7b9-2b807120ce71"
      },
      "execution_count": null,
      "outputs": [
        {
          "output_type": "stream",
          "name": "stdout",
          "text": [
            "['7. J. K. Rowling', 'J.K. Rowling', 'J.K. Rowling', '7. J. K. Rowling', 'J.K. Rowling', 'J.K. Rowling', 'J.K. Rowling', '7. J. K. Rowling', '7. j. k. Rowling', 'J.K. Rowling']\n"
          ]
        }
      ]
    },
    {
      "cell_type": "code",
      "source": [
        "# Group the answers\n",
        "grouped_answers = group_answers(question, alt_answers, nli_model, nli_tokenizer, device)\n",
        "print(\"\\nGrouped Answers:\")\n",
        "for i, group in enumerate(grouped_answers, 1):\n",
        "    print(f\"Group {i}: {group}\")\n",
        "\n",
        "# Calculate entropy\n",
        "entropy = calculate_entropy(grouped_answers)\n",
        "print(f\"\\nEntropy of answer distribution: {entropy}\")"
      ],
      "metadata": {
        "id": "Yx8RsCCJpju8",
        "colab": {
          "base_uri": "https://localhost:8080/"
        },
        "outputId": "adbfbe4a-b0d2-4757-e378-5117584e6828"
      },
      "execution_count": null,
      "outputs": [
        {
          "output_type": "stream",
          "name": "stdout",
          "text": [
            "\n",
            "Grouped Answers:\n",
            "Group 1: ['7. J. K. Rowling', 'J.K. Rowling', 'J.K. Rowling', '7. J. K. Rowling', 'J.K. Rowling', 'J.K. Rowling', 'J.K. Rowling', '7. J. K. Rowling', '7. j. k. Rowling', 'J.K. Rowling']\n",
            "\n",
            "Entropy of answer distribution: 0.0\n"
          ]
        }
      ]
    },
    {
      "cell_type": "markdown",
      "source": [
        "Now, let's create the batch processing code for these functions"
      ],
      "metadata": {
        "id": "_WRn0U3wlivW"
      }
    },
    {
      "cell_type": "markdown",
      "source": [
        "## 5) Batch Processing of the Method"
      ],
      "metadata": {
        "id": "bbAmr8S_mE9b"
      }
    },
    {
      "cell_type": "markdown",
      "source": [
        "Adding few shot examples to be used in training and test time"
      ],
      "metadata": {
        "id": "Yxa6jtQZp2sT"
      }
    },
    {
      "cell_type": "code",
      "source": [
        "FEW_SHOT_EXAMPLES = \"\"\"\n",
        "Question: What is the capital of France?\n",
        "Answer: paris\n",
        "Question: What is the famous dance move of Michael Jackson?\n",
        "Answer: moonwalk\n",
        "Question: Which birds collect in a convocation?\n",
        "Answer: eagles\n",
        "Question: What is the name of the dog in the Punch and Judy shows?\n",
        "Answer: toby\n",
        "Question: Who is the first president of United States?\n",
        "Answer: george washington\n",
        "\"\"\""
      ],
      "metadata": {
        "id": "gfdT0qDmp16q"
      },
      "execution_count": null,
      "outputs": []
    },
    {
      "cell_type": "code",
      "source": [
        "def format_question_with_examples(question):\n",
        "    return f\"{FEW_SHOT_EXAMPLES} Question: {question}\\nAnswer:\""
      ],
      "metadata": {
        "id": "RmzMl8sNp8RH"
      },
      "execution_count": null,
      "outputs": []
    },
    {
      "cell_type": "code",
      "source": [
        "def save_item(item, file_path):\n",
        "    with open(file_path, 'a') as f:\n",
        "        json.dump(item, f)\n",
        "        f.write('\\n')\n",
        "\n",
        "def load_processed_items(file_path):\n",
        "    processed_items = []\n",
        "    if os.path.exists(file_path):\n",
        "        with open(file_path, 'r') as f:\n",
        "            for line in f:\n",
        "                processed_items.append(json.loads(line))\n",
        "    return processed_items"
      ],
      "metadata": {
        "id": "mxgr4CzLuaZ-"
      },
      "execution_count": null,
      "outputs": []
    },
    {
      "cell_type": "code",
      "source": [
        "# SKIP THIS IF THE ANSWERS AND EMBEDDINGS ARE ALREADY PRODUCED\n",
        "import torch, json\n",
        "from tqdm import tqdm\n",
        "\n",
        "base_path = \"/content/drive/MyDrive/hallucination-detector/\"\n",
        "train_save_path = os.path.join(base_path, \"processed_data/train_processed.jsonl\")\n",
        "valid_save_path = os.path.join(base_path, \"processed_data/valid_processed.jsonl\")\n",
        "test_save_path = os.path.join(base_path, \"processed_data/test_processed.jsonl\")\n",
        "\n",
        "os.makedirs(os.path.dirname(train_save_path), exist_ok=True)\n",
        "\n",
        "def monitor_memory():\n",
        "    print(f\"Allocated: {torch.cuda.memory_allocated() / 1e9:.2f} GB\")\n",
        "    print(f\"Reserved: {torch.cuda.memory_reserved() / 1e9:.2f} GB\")\n",
        "\n",
        "def generate_answers_and_get_embeddings_batch(questions, model, tokenizer, device, temperature=0, additional_tokens=25):\n",
        "    formatted_questions = [format_question_with_examples(q) for q in questions]\n",
        "\n",
        "    inputs = tokenizer(formatted_questions, return_tensors=\"pt\", padding=True, truncation=True).to(device)\n",
        "    question_lengths = inputs.attention_mask.sum(dim=1)\n",
        "    max_length = inputs.input_ids.size(1) + additional_tokens\n",
        "\n",
        "    with torch.no_grad():\n",
        "        generation_outputs = model.generate(\n",
        "            **inputs,\n",
        "            max_length=max_length,\n",
        "            num_return_sequences=1,\n",
        "            temperature=temperature,\n",
        "            return_dict_in_generate=True,\n",
        "            output_hidden_states=True\n",
        "        )\n",
        "\n",
        "    generated_sequences = generation_outputs.sequences\n",
        "    full_responses = tokenizer.batch_decode(generated_sequences, skip_special_tokens=True)\n",
        "    answers = [full_response[len(formatted_q):].strip() for full_response, formatted_q in zip(full_responses, formatted_questions)]\n",
        "\n",
        "    # Extract the last token's embedding for each question\n",
        "    last_token_embeddings = [generation_outputs.hidden_states[0][-1][i][question_length-1].cpu()\n",
        "                             for i, question_length in enumerate(question_lengths)]\n",
        "\n",
        "    # Clear intermediate variables\n",
        "    del inputs, generation_outputs, generated_sequences\n",
        "    torch.cuda.empty_cache()\n",
        "\n",
        "    return answers, last_token_embeddings\n",
        "\n",
        "def generate_alternative_answers_batch(questions, model, tokenizer, device, n=10, temperature=0.8, top_p=0.9, additional_tokens=25):\n",
        "    formatted_questions = [format_question_with_examples(q) for q in questions]\n",
        "\n",
        "    inputs = tokenizer(formatted_questions, return_tensors=\"pt\", padding=True, truncation=True).to(device)\n",
        "    max_length = inputs.input_ids.size(1) + additional_tokens\n",
        "\n",
        "    with torch.no_grad():\n",
        "        outputs = model.generate(\n",
        "            **inputs,\n",
        "            max_length=max_length,\n",
        "            num_return_sequences=n,\n",
        "            temperature=temperature,\n",
        "            top_p=top_p,\n",
        "            do_sample=True\n",
        "        )\n",
        "\n",
        "    # Reshape outputs to group alternative answers for each question\n",
        "    outputs = outputs.view(len(questions), n, -1)\n",
        "\n",
        "    all_alternative_answers = []\n",
        "    for i, formatted_q in enumerate(formatted_questions):\n",
        "        alternative_answers = []\n",
        "        for output in outputs[i]:\n",
        "            full_response = tokenizer.decode(output, skip_special_tokens=True)\n",
        "            answer = full_response[len(formatted_q):].strip()\n",
        "            alternative_answers.append(answer)\n",
        "        all_alternative_answers.append(alternative_answers)\n",
        "\n",
        "    # Clear intermediate variables\n",
        "    del inputs, outputs\n",
        "    torch.cuda.empty_cache()\n",
        "\n",
        "    return all_alternative_answers\n",
        "\n",
        "def process_dataset_batch(dataset, gemma_model, gemma_tokenizer, device, save_path, is_test=False, save_interval=100, batch_size=8):\n",
        "    processed_data = load_processed_items(save_path)\n",
        "    start_index = len(processed_data)\n",
        "\n",
        "    for i in tqdm(range(start_index, len(dataset), batch_size), initial=start_index//batch_size, total=len(dataset)//batch_size):\n",
        "        batch = dataset[i:i+batch_size]\n",
        "\n",
        "        if isinstance(batch, str):\n",
        "            questions = [batch]\n",
        "        elif isinstance(batch, dict):\n",
        "            questions = batch.get('question', [])\n",
        "            if isinstance(questions, str):\n",
        "                questions = [questions]\n",
        "        elif isinstance(batch, list):\n",
        "            questions = [item['question'] if isinstance(item, dict) else item for item in batch]\n",
        "        else:\n",
        "            raise ValueError(f\"Unexpected batch type: {type(batch)}\")\n",
        "\n",
        "        monitor_memory()  # Check memory before generation\n",
        "\n",
        "        # Generate best guess with temperature 0\n",
        "        answers_0_7, last_token_embeddings = generate_answers_and_get_embeddings_batch(\n",
        "            questions, gemma_model, gemma_tokenizer, device, temperature=0, additional_tokens=25\n",
        "        )\n",
        "\n",
        "        if not is_test:\n",
        "            # Generate 10 alternative answers for each question\n",
        "            all_alt_answers = generate_alternative_answers_batch(\n",
        "                questions, gemma_model, gemma_tokenizer, device, n=10, temperature=0.8, additional_tokens=25\n",
        "            )\n",
        "\n",
        "        # Process and save each item in the batch\n",
        "        for j, question in enumerate(questions):\n",
        "            norm_target = dataset[i+j].get('norm_target', '')  # Get the normalized target\n",
        "            targets = dataset[i+j].get('targets', [])  # Get the list of alternative targets\n",
        "\n",
        "            if is_test:\n",
        "                processed_item = {\n",
        "                    'question': question,\n",
        "                    'answer_0_7': answers_0_7[j],\n",
        "                    'last_token_embedding': last_token_embeddings[j].tolist(),\n",
        "                    'norm_target': norm_target,\n",
        "                    'targets': targets\n",
        "                }\n",
        "            else:\n",
        "                processed_item = {\n",
        "                    'question': question,\n",
        "                    'answer_0_7': answers_0_7[j],\n",
        "                    'last_token_embedding': last_token_embeddings[j].tolist(),\n",
        "                    'alt_answers': all_alt_answers[j],\n",
        "                    'norm_target': norm_target,\n",
        "                    'targets': targets\n",
        "                }\n",
        "\n",
        "            save_item(processed_item, save_path)\n",
        "            processed_data.append(processed_item)\n",
        "\n",
        "        if (i + batch_size) % save_interval == 0:\n",
        "            print(f\"Processed and saved {i + batch_size} items\")\n",
        "\n",
        "        # Clear GPU memory after each batch\n",
        "        torch.cuda.empty_cache()\n",
        "        #monitor_memory()  # Check memory after clearing\n",
        "\n",
        "    return processed_data\n",
        "\n",
        "# Process datasets with batch processing\n",
        "batch_size = 8\n",
        "#print(\"Debug: First item in dataset:\")\n",
        "#print(train_dataset[0])\n",
        "\n",
        "train_processed = process_dataset_batch(train_dataset, gemma_model, gemma_tokenizer, device, train_save_path, batch_size=batch_size)\n",
        "valid_processed = process_dataset_batch(valid_dataset, gemma_model, gemma_tokenizer, device, valid_save_path, batch_size=batch_size)\n",
        "test_processed = process_dataset_batch(test_dataset, gemma_model, gemma_tokenizer, device, test_save_path, is_test=True, batch_size=batch_size)"
      ],
      "metadata": {
        "id": "s_lZbNVPqFVy"
      },
      "execution_count": null,
      "outputs": []
    },
    {
      "cell_type": "markdown",
      "source": [
        "Let's read the saved files"
      ],
      "metadata": {
        "id": "OOdE80s965D9"
      }
    },
    {
      "cell_type": "code",
      "source": [
        "import json\n",
        "\n",
        "def read_jsonl(file_path):\n",
        "    data = []\n",
        "    with open(file_path, 'r', encoding='utf-8') as file:\n",
        "        for line in file:\n",
        "            data.append(json.loads(line.strip()))\n",
        "    return data"
      ],
      "metadata": {
        "id": "zu2X2kNp3kOd"
      },
      "execution_count": null,
      "outputs": []
    },
    {
      "cell_type": "code",
      "source": [
        "# Define the file paths\n",
        "base_path = \"/content/drive/MyDrive/hallucination-detector/\"\n",
        "train_file_path = os.path.join(base_path, \"processed_data/train_processed.jsonl\")\n",
        "valid_file_path = os.path.join(base_path, \"processed_data/valid_processed.jsonl\")\n",
        "test_file_path = os.path.join(base_path, \"processed_data/test_processed.jsonl\")\n",
        "\n",
        "# Read the files\n",
        "train_data_read = read_jsonl(train_file_path)\n",
        "valid_data_read = read_jsonl(valid_file_path)\n",
        "test_data_read = read_jsonl(test_file_path)\n",
        "\n",
        "# Print some information about the loaded data\n",
        "print(f\"Loaded {len(train_data_read)} training samples\")\n",
        "print(f\"Loaded {len(valid_data_read)} validation samples\")\n",
        "print(f\"Loaded {len(test_data_read)} test samples\")"
      ],
      "metadata": {
        "colab": {
          "base_uri": "https://localhost:8080/"
        },
        "id": "X4ffTht43kQv",
        "outputId": "6115bccf-2511-47de-ad81-5e72c8e90f93"
      },
      "execution_count": null,
      "outputs": [
        {
          "output_type": "stream",
          "name": "stdout",
          "text": [
            "Loaded 6000 training samples\n",
            "Loaded 2000 validation samples\n",
            "Loaded 1800 test samples\n"
          ]
        }
      ]
    },
    {
      "cell_type": "markdown",
      "source": [
        "## 6) Answer Clustering and Semantic Entropy Calculation"
      ],
      "metadata": {
        "id": "VI85UOXy_GSG"
      }
    },
    {
      "cell_type": "markdown",
      "source": [
        "So far, we calculated the best guess for each question (temperature=0 guess) as well as 10 alternative answers (generated with top_p=0.9 and temperature=0.8)\n",
        "\n",
        "Now, we will cluster the answers into semantic groups and calculate the corresponding semantic entropy"
      ],
      "metadata": {
        "id": "tux3OOsJ_J9t"
      }
    },
    {
      "cell_type": "code",
      "source": [
        "#IF DATA ALREADY SAVED, YOU CAN SKIP FROM HERE 2:\n",
        "import torch\n",
        "import torch.nn.functional as F\n",
        "import json\n",
        "from tqdm import tqdm\n",
        "import math\n",
        "import os\n",
        "\n",
        "# Assuming you have already defined these functions:\n",
        "# check_entailment, bidirectional_entailment, cluster_answers, group_answers, calculate_entropy\n",
        "\n",
        "def process_item(item, nli_model, nli_tokenizer, device):\n",
        "    question = item['question']\n",
        "    alt_answers = item['alt_answers']\n",
        "\n",
        "    # Generate clustered groups\n",
        "    clustered_groups = group_answers(question, alt_answers, nli_model, nli_tokenizer, device)\n",
        "    item['clustered_groups'] = clustered_groups\n",
        "\n",
        "    # Calculate semantic entropy\n",
        "    semantic_entropy = calculate_entropy(clustered_groups)\n",
        "    item['semantic_entropy'] = semantic_entropy\n",
        "\n",
        "    return item\n",
        "\n",
        "def process_and_save_data(data, nli_model, nli_tokenizer, device, output_path):\n",
        "    with open(output_path, 'w', encoding='utf-8') as f:\n",
        "        for item in tqdm(data, desc=\"Processing items\"):\n",
        "            processed_item = process_item(item, nli_model, nli_tokenizer, device)\n",
        "            json.dump(processed_item, f)\n",
        "            f.write('\\n')\n",
        "\n",
        "# Assuming nli_model and nli_tokenizer are already loaded and available\n",
        "\n",
        "# Define input and output paths\n",
        "base_path = \"/content/drive/MyDrive/hallucination-detector/\"\n",
        "train_input_path = os.path.join(base_path, \"processed_data/train_processed.jsonl\")\n",
        "valid_input_path = os.path.join(base_path, \"processed_data/valid_processed.jsonl\")\n",
        "train_output_path = os.path.join(base_path, \"processed_data/train_processed_clustered.jsonl\")\n",
        "valid_output_path = os.path.join(base_path, \"processed_data/valid_processed_clustered.jsonl\")\n",
        "\n",
        "# Read the input files\n",
        "def read_jsonl(file_path):\n",
        "    data = []\n",
        "    with open(file_path, 'r', encoding='utf-8') as file:\n",
        "        for line in file:\n",
        "            data.append(json.loads(line.strip()))\n",
        "    return data\n",
        "\n",
        "train_data = read_jsonl(train_input_path)\n",
        "valid_data = read_jsonl(valid_input_path)\n",
        "\n",
        "# Process and save train data\n",
        "print(\"Processing train data...\")\n",
        "process_and_save_data(train_data, nli_model, nli_tokenizer, device, train_output_path)\n",
        "\n",
        "# Process and save validation data\n",
        "print(\"Processing validation data...\")\n",
        "process_and_save_data(valid_data, nli_model, nli_tokenizer, device, valid_output_path)\n",
        "\n",
        "print(\"Processing complete. New files saved with 'clustered' extension.\")"
      ],
      "metadata": {
        "id": "mR5NbHjBCbs0",
        "colab": {
          "base_uri": "https://localhost:8080/"
        },
        "outputId": "eea3dd3b-82d2-4484-f1ef-0474e02349de"
      },
      "execution_count": null,
      "outputs": [
        {
          "metadata": {
            "tags": null
          },
          "name": "stdout",
          "output_type": "stream",
          "text": [
            "Processing train data...\n"
          ]
        },
        {
          "metadata": {
            "tags": null
          },
          "name": "stderr",
          "output_type": "stream",
          "text": [
            "Processing items: 100%|██████████| 6000/6000 [1:08:12<00:00,  1.47it/s]\n"
          ]
        },
        {
          "metadata": {
            "tags": null
          },
          "name": "stdout",
          "output_type": "stream",
          "text": [
            "Processing validation data...\n"
          ]
        },
        {
          "output_type": "stream",
          "name": "stderr",
          "text": [
            "Processing items: 100%|██████████| 2000/2000 [22:22<00:00,  1.49it/s]"
          ]
        },
        {
          "output_type": "stream",
          "name": "stdout",
          "text": [
            "Processing complete. New files saved with 'clustered' extension.\n"
          ]
        },
        {
          "output_type": "stream",
          "name": "stderr",
          "text": [
            "\n"
          ]
        }
      ]
    },
    {
      "cell_type": "code",
      "source": [
        "import os\n",
        "import json\n",
        "import re\n",
        "from tqdm import tqdm\n",
        "\n",
        "# Define a set of stop words to remove so that they won't lead to false positives in prediction <-> label comparison\n",
        "STOP_WORDS = set(['and', 'in', 'on', 'or', 'at', 'the', 'a', 'an', 'of', 'to', 'for', 'with', 'by', 'from', 'up', 'about', 'into', 'over', 'after'])\n",
        "\n",
        "def preprocess_target(text):\n",
        "    # Convert to lowercase\n",
        "    text = text.lower()\n",
        "    # Remove punctuation and apostrophe s's\n",
        "    text = re.sub(r\"[^\\w\\s]|'s\", \"\", text)\n",
        "    # Split into words, remove trailing 's', filter out stop words, and keep words of 4 or more characters\n",
        "    words = [word[:-1] if word.endswith('s') else word for word in text.split()\n",
        "             if word not in STOP_WORDS and len(word) >= 4]\n",
        "    return words\n",
        "\n",
        "def compare_answer_target(answer, target):\n",
        "    target_words = preprocess_target(target)\n",
        "    answer = answer.lower()  # Convert answer to lowercase for case-insensitive comparison\n",
        "\n",
        "    # Check if any target word is in the answer\n",
        "    return any(word in answer for word in target_words)\n",
        "\n",
        "def process_file(file_path):\n",
        "    processed_data = []\n",
        "    with open(file_path, 'r', encoding='utf-8') as file:\n",
        "        for line in tqdm(file, desc=f\"Processing {os.path.basename(file_path)}\"):\n",
        "            item = json.loads(line)\n",
        "            answer = item['answer_0_7']\n",
        "            target = item['norm_target']\n",
        "\n",
        "            item['Label'] = compare_answer_target(answer, target)\n",
        "            processed_data.append(item)\n",
        "\n",
        "    return processed_data\n",
        "\n",
        "# Define file paths\n",
        "base_path = \"/content/drive/MyDrive/hallucination-detector/\"\n",
        "train_path = os.path.join(base_path, \"processed_data/train_processed_clustered.jsonl\")\n",
        "valid_path = os.path.join(base_path, \"processed_data/valid_processed_clustered.jsonl\")\n",
        "test_path = os.path.join(base_path, \"processed_data/test_processed.jsonl\")\n",
        "\n",
        "# Process each file\n",
        "train_data = process_file(train_path)\n",
        "valid_data = process_file(valid_path)\n",
        "test_data = process_file(test_path)\n",
        "\n",
        "# Save processed data\n",
        "def save_processed_data(data, file_path):\n",
        "    with open(file_path, 'w', encoding='utf-8') as file:\n",
        "        for item in data:\n",
        "            json.dump(item, file)\n",
        "            file.write('\\n')\n",
        "\n",
        "save_processed_data(train_data, os.path.join(base_path, \"processed_data/train_processed_labeled.jsonl\"))\n",
        "save_processed_data(valid_data, os.path.join(base_path, \"processed_data/valid_processed_labeled.jsonl\"))\n",
        "save_processed_data(test_data, os.path.join(base_path, \"processed_data/test_processed_labeled.jsonl\"))\n",
        "\n",
        "print(\"Processing complete. New files saved with 'labeled' extension.\")"
      ],
      "metadata": {
        "colab": {
          "base_uri": "https://localhost:8080/"
        },
        "id": "KSAASuhgLs2c",
        "outputId": "3871bc65-fa1a-4d36-c623-fb590f8fa898"
      },
      "execution_count": null,
      "outputs": [
        {
          "output_type": "stream",
          "name": "stderr",
          "text": [
            "Processing train_processed_clustered.jsonl: 6000it [00:02, 2274.01it/s]\n",
            "Processing valid_processed_clustered.jsonl: 2000it [00:00, 2209.67it/s]\n",
            "Processing test_processed.jsonl: 1800it [00:00, 2298.85it/s]\n"
          ]
        },
        {
          "output_type": "stream",
          "name": "stdout",
          "text": [
            "Processing complete. New files saved with 'labeled' extension.\n"
          ]
        }
      ]
    },
    {
      "cell_type": "code",
      "source": [
        "#IF DATA ALREADY SAVED, YOU CAN SKIP TO HERE 2:\n",
        "\n",
        "import json\n",
        "import os\n",
        "from tqdm import tqdm\n",
        "\n",
        "def load_jsonl(file_path):\n",
        "    data = []\n",
        "    with open(file_path, 'r', encoding='utf-8') as file:\n",
        "        for line in tqdm(file, desc=f\"Loading {os.path.basename(file_path)}\"):\n",
        "            data.append(json.loads(line.strip()))\n",
        "    return data\n",
        "\n",
        "# Define the base path and file paths\n",
        "base_path = \"/content/drive/MyDrive/hallucination-detector/\"\n",
        "train_file_path = os.path.join(base_path, \"processed_data/train_processed_labeled.jsonl\")\n",
        "valid_file_path = os.path.join(base_path, \"processed_data/valid_processed_labeled.jsonl\")\n",
        "test_file_path = os.path.join(base_path, \"processed_data/test_processed_labeled.jsonl\")\n",
        "\n",
        "# Load the data\n",
        "train_data_labeled = load_jsonl(train_file_path)\n",
        "valid_data_labeled = load_jsonl(valid_file_path)\n",
        "test_data_labeled = load_jsonl(test_file_path)\n",
        "\n",
        "# Print some information to verify the loading\n",
        "print(f\"Loaded {len(train_data_labeled)} training samples\")\n",
        "print(f\"Loaded {len(valid_data_labeled)} validation samples\")\n",
        "print(f\"Loaded {len(test_data_labeled)} test samples\")\n",
        "\n",
        "# Optionally, you can print the keys of the first item in each dataset to verify the structure\n",
        "print(\"\\nKeys in a training sample:\")\n",
        "print(list(train_data_labeled[0].keys()))\n",
        "print(\"\\nKeys in a validation sample:\")\n",
        "print(list(valid_data_labeled[0].keys()))\n",
        "print(\"\\nKeys in a test sample:\")\n",
        "print(list(test_data_labeled[0].keys()))"
      ],
      "metadata": {
        "colab": {
          "base_uri": "https://localhost:8080/"
        },
        "id": "_mdpk59-o0O2",
        "outputId": "7a3b7954-69ad-4c79-eea7-7a516498176e"
      },
      "execution_count": null,
      "outputs": [
        {
          "output_type": "stream",
          "name": "stderr",
          "text": [
            "Loading train_processed_labeled.jsonl: 6000it [00:03, 1948.56it/s]\n",
            "Loading valid_processed_labeled.jsonl: 2000it [00:01, 1311.37it/s]\n",
            "Loading test_processed_labeled.jsonl: 1800it [00:01, 1438.97it/s]"
          ]
        },
        {
          "output_type": "stream",
          "name": "stdout",
          "text": [
            "Loaded 6000 training samples\n",
            "Loaded 2000 validation samples\n",
            "Loaded 1800 test samples\n",
            "\n",
            "Keys in a training sample:\n",
            "['question', 'answer_0_7', 'last_token_embedding', 'alt_answers', 'norm_target', 'targets', 'clustered_groups', 'semantic_entropy', 'Label']\n",
            "\n",
            "Keys in a validation sample:\n",
            "['question', 'answer_0_7', 'last_token_embedding', 'alt_answers', 'norm_target', 'targets', 'clustered_groups', 'semantic_entropy', 'Label']\n",
            "\n",
            "Keys in a test sample:\n",
            "['question', 'answer_0_7', 'last_token_embedding', 'norm_target', 'targets', 'Label']\n"
          ]
        },
        {
          "output_type": "stream",
          "name": "stderr",
          "text": [
            "\n"
          ]
        }
      ]
    },
    {
      "cell_type": "code",
      "source": [
        "# Print some statistics\n",
        "for dataset, name in zip([train_data_labeled, valid_data_labeled, test_data_labeled], ['Train', 'Validation', 'Test']):\n",
        "    total = len(dataset)\n",
        "    true_count = sum(1 for item in dataset if item['Label'])\n",
        "    false_count = total - true_count\n",
        "    print(f\"{name} dataset:\")\n",
        "    print(f\"  Total entries: {total}\")\n",
        "    print(f\"  True labels: {true_count} ({true_count/total:.2%})\")\n",
        "    print(f\"  False labels: {false_count} ({false_count/total:.2%})\")\n",
        "    print()"
      ],
      "metadata": {
        "colab": {
          "base_uri": "https://localhost:8080/"
        },
        "id": "NovQKNtBpg5_",
        "outputId": "3d1eddf4-52f8-4f9c-f683-026e3612de10"
      },
      "execution_count": null,
      "outputs": [
        {
          "output_type": "stream",
          "name": "stdout",
          "text": [
            "Train dataset:\n",
            "  Total entries: 6000\n",
            "  True labels: 1220 (20.33%)\n",
            "  False labels: 4780 (79.67%)\n",
            "\n",
            "Validation dataset:\n",
            "  Total entries: 2000\n",
            "  True labels: 392 (19.60%)\n",
            "  False labels: 1608 (80.40%)\n",
            "\n",
            "Test dataset:\n",
            "  Total entries: 1800\n",
            "  True labels: 368 (20.44%)\n",
            "  False labels: 1432 (79.56%)\n",
            "\n"
          ]
        }
      ]
    },
    {
      "cell_type": "code",
      "source": [
        "def calculate_average_entropy(data, label):\n",
        "    entropies = [item['semantic_entropy'] for item in data if item['Label'] == label]\n",
        "    return sum(entropies) / len(entropies) if entropies else 0\n",
        "\n",
        "# Calculate and print average entropies for train and validation sets\n",
        "for dataset, name in zip([train_data_labeled, valid_data_labeled], ['Train', 'Validation']):\n",
        "    true_avg_entropy = calculate_average_entropy(dataset, True)\n",
        "    false_avg_entropy = calculate_average_entropy(dataset, False)\n",
        "\n",
        "    print(f\"{name} dataset:\")\n",
        "    print(f\"  Average entropy for True labels: {true_avg_entropy:.4f}\")\n",
        "    print(f\"  Average entropy for False labels: {false_avg_entropy:.4f}\")\n",
        "    print(f\"  Difference (True - False): {true_avg_entropy - false_avg_entropy:.4f}\")\n",
        "    print()\n",
        "\n",
        "# Calculate overall statistics for train and validation combined\n",
        "all_data = train_data_labeled + valid_data_labeled\n",
        "overall_true_avg_entropy = calculate_average_entropy(all_data, True)\n",
        "overall_false_avg_entropy = calculate_average_entropy(all_data, False)\n",
        "\n",
        "print(\"Overall statistics (Train + Validation):\")\n",
        "print(f\"  Average entropy for True labels: {overall_true_avg_entropy:.4f}\")\n",
        "print(f\"  Average entropy for False labels: {overall_false_avg_entropy:.4f}\")\n",
        "print(f\"  Difference (True - False): {overall_true_avg_entropy - overall_false_avg_entropy:.4f}\")"
      ],
      "metadata": {
        "colab": {
          "base_uri": "https://localhost:8080/"
        },
        "id": "9CYtH5VUi80C",
        "outputId": "fabfe33b-4b1e-4772-a54e-8ede9834a75c"
      },
      "execution_count": null,
      "outputs": [
        {
          "output_type": "stream",
          "name": "stdout",
          "text": [
            "Train dataset:\n",
            "  Average entropy for True labels: 0.7165\n",
            "  Average entropy for False labels: 1.5288\n",
            "  Difference (True - False): -0.8123\n",
            "\n",
            "Validation dataset:\n",
            "  Average entropy for True labels: 0.7605\n",
            "  Average entropy for False labels: 1.4707\n",
            "  Difference (True - False): -0.7102\n",
            "\n",
            "Overall statistics (Train + Validation):\n",
            "  Average entropy for True labels: 0.7272\n",
            "  Average entropy for False labels: 1.5142\n",
            "  Difference (True - False): -0.7870\n"
          ]
        }
      ]
    },
    {
      "cell_type": "markdown",
      "source": [
        "We have great results! Our hypothesis seems to be correct about the negative correlation between semantic entropy and accuracy in model outputs."
      ],
      "metadata": {
        "id": "WaSHZ_0wmuwh"
      }
    },
    {
      "cell_type": "markdown",
      "source": [
        "Now, let's train a logistic regression model that takes the question's last token's final layer hidden state as input and predicts the entropy value as output. If we can derive a good logistic regression model, we can use this to predict whether a given question will lead the Gemma-2B model to hallucinate or not!"
      ],
      "metadata": {
        "id": "UuUl5xVKnBq3"
      }
    },
    {
      "cell_type": "markdown",
      "source": [
        "## 7) Hallucination Detection Model - Trained to predict the label\n"
      ],
      "metadata": {
        "id": "DdJX8CZZEpMg"
      }
    },
    {
      "cell_type": "markdown",
      "source": [
        "In the first version of our logistic regressor, we will use the \"best guess's accuracy\" as our label, which serves as a supervised task. In the next section, we will replace this label with the semantic entropy as the target (y) of the logistic regression, where the predicted semantic entropy will function as a proxy for the accuracy of the model's generations.\n",
        "\n",
        "Now, let's focus on the scenario where we are using the best guess accuracy as the label for our training:"
      ],
      "metadata": {
        "id": "CxXQG6qUmck5"
      }
    },
    {
      "cell_type": "code",
      "source": [
        "# IF DATA FRAMES ARE ALREADY SAVED, SKIP FROM HERE 3:\n",
        "\n",
        "import pandas as pd\n",
        "import numpy as np\n",
        "from sklearn.model_selection import train_test_split, cross_val_score\n",
        "from sklearn.linear_model import LogisticRegression\n",
        "from sklearn.metrics import roc_curve, roc_auc_score, accuracy_score, precision_score, recall_score, f1_score\n",
        "from sklearn.preprocessing import StandardScaler\n",
        "import matplotlib.pyplot as plt\n",
        "import os\n",
        "\n",
        "# Define the base path\n",
        "base_path = \"/content/drive/MyDrive/hallucination-detector/\"\n",
        "\n",
        "# 1. Data Preparation\n",
        "def prepare_data(data):\n",
        "    df = pd.DataFrame(data)\n",
        "    columns = ['last_token_embedding', 'Label']\n",
        "    if 'semantic_entropy' in df.columns:\n",
        "        columns.append('semantic_entropy')\n",
        "    return df[columns]\n",
        "\n",
        "# Prepare DataFrames\n",
        "train_df_labeled = prepare_data(train_data_labeled)\n",
        "valid_df_labeled = prepare_data(valid_data_labeled)\n",
        "test_df_labeled = prepare_data(test_data_labeled)\n",
        "\n",
        "# Save DataFrames as CSV\n",
        "train_csv_path = os.path.join(base_path, \"processed_data/train_df_labeled.csv\")\n",
        "valid_csv_path = os.path.join(base_path, \"processed_data/valid_df_labeled.csv\")\n",
        "test_csv_path = os.path.join(base_path, \"processed_data/test_df_labeled.csv\")\n",
        "\n",
        "train_df_labeled.to_csv(train_csv_path, index=False)\n",
        "valid_df_labeled.to_csv(valid_csv_path, index=False)\n",
        "test_df_labeled.to_csv(test_csv_path, index=False)\n",
        "\n",
        "print(\"DataFrames saved as CSV files.\")"
      ],
      "metadata": {
        "colab": {
          "base_uri": "https://localhost:8080/"
        },
        "id": "K3oPh-_EwbEi",
        "outputId": "8d6b3103-bfd4-422c-857d-33ae8442a077"
      },
      "execution_count": null,
      "outputs": [
        {
          "output_type": "stream",
          "name": "stdout",
          "text": [
            "DataFrames saved as CSV files.\n"
          ]
        }
      ]
    },
    {
      "cell_type": "code",
      "source": [
        "# IF DATA FRAMES ARE ALREADY SAVED, SKIP TO HERE 3:\n",
        "\n",
        "import pandas as pd\n",
        "import numpy as np\n",
        "from sklearn.metrics import roc_curve\n",
        "import matplotlib.pyplot as plt\n",
        "\n",
        "# Save DataFrames as CSV\n",
        "train_csv_path = os.path.join(base_path, \"processed_data/train_df_labeled.csv\")\n",
        "valid_csv_path = os.path.join(base_path, \"processed_data/valid_df_labeled.csv\")\n",
        "test_csv_path = os.path.join(base_path, \"processed_data/test_df_labeled.csv\")\n",
        "\n",
        "# Read CSV files back into DataFrames\n",
        "train_df_labeled = pd.read_csv(train_csv_path)\n",
        "valid_df_labeled = pd.read_csv(valid_csv_path)\n",
        "test_df_labeled = pd.read_csv(test_csv_path)\n",
        "print(\"DataFrames loaded from CSV files.\")\n",
        "\n",
        "# Convert string representation of list back to numpy array\n",
        "train_df_labeled['embedding'] = train_df_labeled['last_token_embedding'].apply(lambda x: np.array(eval(x)))\n",
        "valid_df_labeled['embedding'] = valid_df_labeled['last_token_embedding'].apply(lambda x: np.array(eval(x)))\n",
        "test_df_labeled['embedding'] = test_df_labeled['last_token_embedding'].apply(lambda x: np.array(eval(x)))\n",
        "\n",
        "# Combine train and valid for threshold selection\n",
        "combined_df = pd.concat([train_df_labeled, valid_df_labeled])"
      ],
      "metadata": {
        "colab": {
          "base_uri": "https://localhost:8080/"
        },
        "id": "-DmK05QFxtFm",
        "outputId": "757ccd0a-0751-49cc-dc49-9899711bc9ad"
      },
      "execution_count": null,
      "outputs": [
        {
          "output_type": "stream",
          "name": "stdout",
          "text": [
            "DataFrames loaded from CSV files.\n"
          ]
        }
      ]
    },
    {
      "cell_type": "code",
      "source": [
        "import matplotlib.pyplot as plt\n",
        "import numpy as np\n",
        "\n",
        "# Assuming 'combined_df' is your DataFrame containing both training and validation data\n",
        "\n",
        "# Separate the data for True and False labels\n",
        "true_entropy = combined_df[combined_df['Label'] == True]['semantic_entropy']\n",
        "false_entropy = combined_df[combined_df['Label'] == False]['semantic_entropy']\n",
        "\n",
        "# Define the number of bins and range\n",
        "bins = 50\n",
        "range_min = min(combined_df['semantic_entropy'].min(), 0)  # In case there are negative values\n",
        "range_max = combined_df['semantic_entropy'].max()\n",
        "\n",
        "# Create the plot\n",
        "plt.figure(figsize=(12, 6))\n",
        "\n",
        "# Plot histogram for False labels (red)\n",
        "plt.hist(false_entropy, bins=bins, range=(range_min, range_max), color='red', alpha=0.5, label='False')\n",
        "\n",
        "# Plot histogram for True labels (green)\n",
        "plt.hist(true_entropy, bins=bins, range=(range_min, range_max), color='green', alpha=0.5, label='True')\n",
        "\n",
        "# Customize the plot\n",
        "plt.title('Distribution of Semantic Entropy for True and False Labels', fontsize=16)\n",
        "plt.xlabel('Semantic Entropy', fontsize=14)\n",
        "plt.ylabel('Frequency', fontsize=14)\n",
        "plt.legend(fontsize=12)\n",
        "plt.grid(True, alpha=0.3)\n",
        "\n",
        "# Add text with data statistics\n",
        "plt.text(0.05, 0.95, f\"True samples: {len(true_entropy)}\\nFalse samples: {len(false_entropy)}\",\n",
        "         transform=plt.gca().transAxes, verticalalignment='top', fontsize=12)\n",
        "\n",
        "plt.tight_layout()\n",
        "plt.show()\n",
        "\n",
        "# Print some statistics\n",
        "print(f\"True labels - Mean: {true_entropy.mean():.4f}, Std: {true_entropy.std():.4f}\")\n",
        "print(f\"False labels - Mean: {false_entropy.mean():.4f}, Std: {false_entropy.std():.4f}\")"
      ],
      "metadata": {
        "colab": {
          "base_uri": "https://localhost:8080/",
          "height": 641
        },
        "id": "RM-hdTfd5ZeR",
        "outputId": "02340c20-7baf-41d1-828e-6bd818a862d3"
      },
      "execution_count": null,
      "outputs": [
        {
          "output_type": "display_data",
          "data": {
            "text/plain": [
              "<Figure size 1200x600 with 1 Axes>"
            ],
            "image/png": "[encoded data removed]"
          },
          "metadata": {}
        },
        {
          "output_type": "stream",
          "name": "stdout",
          "text": [
            "True labels - Mean: 0.7272, Std: 0.8510\n",
            "False labels - Mean: 1.5142, Std: 0.9598\n"
          ]
        }
      ]
    },
    {
      "cell_type": "markdown",
      "source": [
        "As can be seen from the graph, True samples tend to result from lower semantic entropy, while false samples tend to result from higher semantic entropy."
      ],
      "metadata": {
        "id": "0uGvkzzDnGtQ"
      }
    },
    {
      "cell_type": "code",
      "source": [
        "# 1. Data Analysis and Visualization\n",
        "\n",
        "# Class distribution\n",
        "plt.figure(figsize=(10, 6))\n",
        "sns.countplot(x='Label', data=combined_df)\n",
        "plt.title('Class Distribution')\n",
        "plt.show()\n",
        "\n",
        "print(\"Class distribution:\")\n",
        "print(combined_df['Label'].value_counts(normalize=True))\n",
        "\n",
        "# Entropy distribution (if available)\n",
        "if 'semantic_entropy' in combined_df.columns:\n",
        "    plt.figure(figsize=(12, 6))\n",
        "    sns.histplot(data=combined_df, x='semantic_entropy', hue='Label', kde=True, bins=30)\n",
        "    plt.title('Distribution of Semantic Entropy by Label')\n",
        "    plt.show()\n",
        "\n",
        "    print(\"\\nEntropy statistics:\")\n",
        "    print(combined_df.groupby('Label')['semantic_entropy'].describe())"
      ],
      "metadata": {
        "colab": {
          "base_uri": "https://localhost:8080/",
          "height": 1000
        },
        "id": "s3gdnIY3TPQ_",
        "outputId": "c43aeab0-1347-4b1d-b81c-ff7a0ec16880"
      },
      "execution_count": null,
      "outputs": [
        {
          "output_type": "display_data",
          "data": {
            "text/plain": [
              "<Figure size 1000x600 with 1 Axes>"
            ],
            "image/png": "[encoded data removed]"
          },
          "metadata": {}
        },
        {
          "output_type": "stream",
          "name": "stdout",
          "text": [
            "Class distribution:\n",
            "Label\n",
            "False    0.7985\n",
            "True     0.2015\n",
            "Name: proportion, dtype: float64\n"
          ]
        },
        {
          "output_type": "display_data",
          "data": {
            "text/plain": [
              "<Figure size 1200x600 with 1 Axes>"
            ],
            "image/png": "[encoded data removed]"
          },
          "metadata": {}
        },
        {
          "output_type": "stream",
          "name": "stdout",
          "text": [
            "\n",
            "Entropy statistics:\n",
            "        count      mean       std  min       25%       50%       75%       max\n",
            "Label                                                                         \n",
            "False  6388.0  1.514209  0.959819  0.0  0.721928  1.570951  2.321928  3.321928\n",
            "True   1612.0  0.727224  0.850998  0.0  0.000000  0.468996  1.295462  3.321928\n"
          ]
        }
      ]
    },
    {
      "cell_type": "code",
      "source": [
        "# 2. Model Training and Evaluation\n",
        "\n",
        "# Prepare the data\n",
        "X_train = np.stack(combined_df['embedding'].values)\n",
        "y_train = combined_df['Label']\n",
        "\n",
        "X_test = np.stack(test_df_labeled['embedding'].values)\n",
        "y_test = test_df_labeled['Label']\n",
        "\n",
        "# Scale the features\n",
        "scaler = StandardScaler()\n",
        "X_train_scaled = scaler.fit_transform(X_train)\n",
        "X_test_scaled = scaler.transform(X_test)\n",
        "\n",
        "# Train the model\n",
        "model = LogisticRegression(max_iter=5000, solver='lbfgs', C=0.001)\n",
        "model.fit(X_train_scaled, y_train)\n",
        "\n",
        "# Cross-validation\n",
        "cv_scores = cross_val_score(model, X_train_scaled, y_train, cv=5)\n",
        "print(\"\\nCross-validation scores:\", cv_scores)\n",
        "print(f\"Mean CV score: {cv_scores.mean():.4f} (+/- {cv_scores.std() * 2:.4f})\")\n",
        "\n",
        "# Predictions on test set\n",
        "y_pred = model.predict(X_test_scaled)\n",
        "y_pred_proba = model.predict_proba(X_test_scaled)[:, 1]"
      ],
      "metadata": {
        "colab": {
          "base_uri": "https://localhost:8080/"
        },
        "id": "MFFi5HRjTQi6",
        "outputId": "35288ce9-37d3-4651-b41c-0ecce5b3e3f7"
      },
      "execution_count": null,
      "outputs": [
        {
          "output_type": "stream",
          "name": "stdout",
          "text": [
            "\n",
            "Cross-validation scores: [0.795    0.8      0.793125 0.79375  0.79375 ]\n",
            "Mean CV score: 0.7951 (+/- 0.0050)\n"
          ]
        }
      ]
    },
    {
      "cell_type": "code",
      "source": [
        "import pandas as pd\n",
        "import numpy as np\n",
        "import matplotlib.pyplot as plt\n",
        "import seaborn as sns\n",
        "from sklearn.preprocessing import StandardScaler\n",
        "from sklearn.linear_model import LogisticRegression\n",
        "from sklearn.metrics import confusion_matrix, classification_report, roc_curve, roc_auc_score\n",
        "from sklearn.model_selection import cross_val_score\n",
        "import os\n",
        "\n",
        "# 3. Model Evaluation\n",
        "\n",
        "# Classification report\n",
        "print(\"\\nClassification Report:\")\n",
        "print(classification_report(y_test, y_pred))\n",
        "\n",
        "# Confusion Matrix\n",
        "cm = confusion_matrix(y_test, y_pred)\n",
        "plt.figure(figsize=(8, 6))\n",
        "sns.heatmap(cm, annot=True, fmt='d', cmap='Blues')\n",
        "plt.title('Confusion Matrix')\n",
        "plt.ylabel('True Label')\n",
        "plt.xlabel('Predicted Label')\n",
        "plt.show()\n",
        "\n",
        "# ROC Curve\n",
        "fpr, tpr, _ = roc_curve(y_test, y_pred_proba)\n",
        "auc = roc_auc_score(y_test, y_pred_proba)\n",
        "\n",
        "plt.figure(figsize=(8, 6))\n",
        "plt.plot(fpr, tpr, label=f'ROC Curve (AUC = {auc:.2f})')\n",
        "plt.plot([0, 1], [0, 1], linestyle='--', label='Random Classifier')\n",
        "plt.xlabel('False Positive Rate')\n",
        "plt.ylabel('True Positive Rate')\n",
        "plt.title('Receiver Operating Characteristic (ROC) Curve')\n",
        "plt.legend()\n",
        "plt.show()"
      ],
      "metadata": {
        "colab": {
          "base_uri": "https://localhost:8080/",
          "height": 1000
        },
        "id": "VKUzFCVFTQgc",
        "outputId": "0c177875-3cd9-48d1-de26-a40f3af21fee"
      },
      "execution_count": null,
      "outputs": [
        {
          "output_type": "stream",
          "name": "stdout",
          "text": [
            "\n",
            "Classification Report:\n",
            "              precision    recall  f1-score   support\n",
            "\n",
            "       False       0.80      1.00      0.89      1432\n",
            "        True       0.60      0.02      0.05       368\n",
            "\n",
            "    accuracy                           0.80      1800\n",
            "   macro avg       0.70      0.51      0.47      1800\n",
            "weighted avg       0.76      0.80      0.71      1800\n",
            "\n"
          ]
        },
        {
          "output_type": "display_data",
          "data": {
            "text/plain": [
              "<Figure size 800x600 with 2 Axes>"
            ],
            "image/png": "[encoded data removed]"
          },
          "metadata": {}
        },
        {
          "output_type": "display_data",
          "data": {
            "text/plain": [
              "<Figure size 800x600 with 1 Axes>"
            ],
            "image/png": "[encoded data removed]"
          },
          "metadata": {}
        }
      ]
    },
    {
      "cell_type": "markdown",
      "source": [
        "The threshold used in the confusion matrix above was not the optimal one. The defualt threshold of 0.5 was used here, which explains the poor performance.\n",
        " So, let's optimize the threshold for F1 score and plot the confusion matrix again"
      ],
      "metadata": {
        "id": "bcRHPxVdZUEr"
      }
    },
    {
      "cell_type": "code",
      "source": [
        "from sklearn.metrics import f1_score\n",
        "\n",
        "# ... [previous code remains the same] ...\n",
        "\n",
        "# After plotting the ROC curve\n",
        "\n",
        "# Find optimal threshold\n",
        "thresholds = np.linspace(0, 1, 100)\n",
        "f1_scores = [f1_score(y_test, y_pred_proba >= threshold) for threshold in thresholds]\n",
        "optimal_threshold = thresholds[np.argmax(f1_scores)]\n",
        "\n",
        "print(f\"\\nOptimal threshold (maximizing F1 score): {optimal_threshold:.4f}\")\n",
        "\n",
        "# New predictions with optimal threshold\n",
        "y_pred_optimal = (y_pred_proba >= optimal_threshold).astype(int)\n",
        "\n",
        "# New confusion matrix\n",
        "cm_optimal = confusion_matrix(y_test, y_pred_optimal)\n",
        "plt.figure(figsize=(8, 6))\n",
        "sns.heatmap(cm_optimal, annot=True, fmt='d', cmap='Blues')\n",
        "plt.title(f'Confusion Matrix (Threshold: {optimal_threshold:.4f})')\n",
        "plt.ylabel('True Label')\n",
        "plt.xlabel('Predicted Label')\n",
        "plt.show()\n",
        "\n",
        "# New classification report\n",
        "print(\"\\nClassification Report (with optimal threshold):\")\n",
        "print(classification_report(y_test, y_pred_optimal))\n",
        "\n",
        "# Visualize threshold vs F1 score\n",
        "plt.figure(figsize=(10, 6))\n",
        "plt.plot(thresholds, f1_scores)\n",
        "plt.axvline(optimal_threshold, color='r', linestyle='--', label=f'Optimal Threshold: {optimal_threshold:.4f}')\n",
        "plt.title('F1 Score vs. Threshold')\n",
        "plt.xlabel('Threshold')\n",
        "plt.ylabel('F1 Score')\n",
        "plt.legend()\n",
        "plt.show()"
      ],
      "metadata": {
        "colab": {
          "base_uri": "https://localhost:8080/",
          "height": 1000
        },
        "id": "evtYkXWGZJr6",
        "outputId": "6a0ce37d-ad3a-4c98-fc7d-0615a9056d7d"
      },
      "execution_count": null,
      "outputs": [
        {
          "output_type": "stream",
          "name": "stdout",
          "text": [
            "\n",
            "Optimal threshold (maximizing F1 score): 0.2121\n"
          ]
        },
        {
          "output_type": "display_data",
          "data": {
            "text/plain": [
              "<Figure size 800x600 with 2 Axes>"
            ],
            "image/png": "[encoded data removed]"
          },
          "metadata": {}
        },
        {
          "output_type": "stream",
          "name": "stdout",
          "text": [
            "\n",
            "Classification Report (with optimal threshold):\n",
            "              precision    recall  f1-score   support\n",
            "\n",
            "       False       0.85      0.56      0.68      1432\n",
            "        True       0.26      0.61      0.37       368\n",
            "\n",
            "    accuracy                           0.57      1800\n",
            "   macro avg       0.56      0.59      0.52      1800\n",
            "weighted avg       0.73      0.57      0.61      1800\n",
            "\n"
          ]
        },
        {
          "output_type": "display_data",
          "data": {
            "text/plain": [
              "<Figure size 1000x600 with 1 Axes>"
            ],
            "image/png": "[encoded data removed]"
          },
          "metadata": {}
        }
      ]
    },
    {
      "cell_type": "markdown",
      "source": [
        "Let's see two examples of our model predicting the hallucination probability:"
      ],
      "metadata": {
        "id": "GFzgpKShZmi0"
      }
    },
    {
      "cell_type": "code",
      "source": [
        "import torch\n",
        "import numpy as np\n",
        "\n",
        "def get_prediction(embedding, model, scaler):\n",
        "\n",
        "    if isinstance(embedding, torch.Tensor):\n",
        "        embedding = embedding.float().cpu().numpy()\n",
        "\n",
        "    embedding = embedding.astype(np.float32\n",
        "    embedding = embedding.reshape(1, -1\n",
        "    embedding_scaled = scaler.transform(embedding)\n",
        "    prob_true = model.predict_proba(embedding_scaled)[0, 1]\n",
        "\n",
        "    return prob_true\n"
      ],
      "metadata": {
        "id": "rnXMsnVueoS0"
      },
      "execution_count": null,
      "outputs": []
    },
    {
      "cell_type": "markdown",
      "source": [
        "First, let's ask a simple question"
      ],
      "metadata": {
        "id": "c39eWtCcaIyG"
      }
    },
    {
      "cell_type": "code",
      "source": [
        "# Checking the best guess of the model\n",
        "question = \"Which team is Kobe Bryant a legend for?\"\n",
        "test_question = f\"\"\"\n",
        "Question: What is the capital of France?\n",
        "Answer: paris\n",
        "\n",
        "Question: Which birds collect in a convocation?\n",
        "Answer: eagles\n",
        "\n",
        "Question: What is the name of the dog in the Punch and Judy shows?\n",
        "Answer: toby\n",
        "\n",
        "Question: In golf what is the old-fashioned name for a No 3 wood?\n",
        "Answer: spoon\n",
        "\n",
        "Question: When was Turkish Republic founded?\n",
        "Answer: 1923\n",
        "\n",
        "Question: {question}\n",
        "Answer : \"\"\"\n",
        "generated_answer, last_token_embedding = generate_answer_and_get_embedding(test_question, gemma_model, gemma_tokenizer, device)\n",
        "\n",
        "print(f\"Question: {question}\")\n",
        "print(f\"Generated answer (temp=0): {generated_answer}\")\n",
        "print(f\"Last token embedding: {last_token_embedding}\")"
      ],
      "metadata": {
        "colab": {
          "base_uri": "https://localhost:8080/"
        },
        "id": "7vkg8TWWZyul",
        "outputId": "0761c4fc-44d0-4d9c-bc80-13e7a1bbdaa8"
      },
      "execution_count": null,
      "outputs": [
        {
          "output_type": "stream",
          "name": "stderr",
          "text": [
            "/usr/local/lib/python3.10/dist-packages/transformers/generation/configuration_utils.py:515: UserWarning: `do_sample` is set to `False`. However, `temperature` is set to `0` -- this flag is only used in sample-based generation modes. You should set `do_sample=True` or unset `temperature`.\n",
            "  warnings.warn(\n"
          ]
        },
        {
          "output_type": "stream",
          "name": "stdout",
          "text": [
            "Question: Which team is Kobe Bryant a legend for?\n",
            "Generated answer (temp=0): Los Angeles Lakers\n",
            "Last token embedding: tensor([-1.4531, -1.5547, -3.0312,  ...,  0.5977, -0.0386,  0.2559],\n",
            "       dtype=torch.bfloat16)\n"
          ]
        }
      ]
    },
    {
      "cell_type": "code",
      "source": [
        "prob_true = get_prediction(last_token_embedding, model, scaler)\n",
        "\n",
        "print(f\"Probability of True label: {prob_true:.4f}\")\n",
        "\n",
        "predicted_label = prob_true >= optimal_threshold\n",
        "print(f\"Predicted label: {predicted_label}\")"
      ],
      "metadata": {
        "colab": {
          "base_uri": "https://localhost:8080/"
        },
        "id": "HLB_nzmwZysC",
        "outputId": "98a757d7-fe9c-4f7f-8062-2c306679c3aa"
      },
      "execution_count": null,
      "outputs": [
        {
          "output_type": "stream",
          "name": "stdout",
          "text": [
            "Probability of True label: 0.4347\n",
            "Predicted label: True\n"
          ]
        }
      ]
    },
    {
      "cell_type": "markdown",
      "source": [
        "Now, let's see how the model would generate 10 alternative outputs for this question:"
      ],
      "metadata": {
        "id": "3KA6ijBUbzLF"
      }
    },
    {
      "cell_type": "code",
      "source": [
        "alt_answers = generate_alternative_answers(test_question, gemma_model, gemma_tokenizer, device)\n",
        "# Group the answers\n",
        "grouped_answers = group_answers(question, alt_answers, nli_model, nli_tokenizer, device)\n",
        "print(\"\\nGrouped Answers:\")\n",
        "for i, group in enumerate(grouped_answers, 1):\n",
        "    print(f\"Group {i}: {group}\")\n",
        "\n",
        "# Calculate entropy\n",
        "entropy = calculate_entropy(grouped_answers)\n",
        "print(f\"\\nEntropy of answer distribution: {entropy}\")"
      ],
      "metadata": {
        "colab": {
          "base_uri": "https://localhost:8080/"
        },
        "id": "BVGn2L9aZypf",
        "outputId": "d8d60636-18d7-4e22-cd4c-f946481bbd73"
      },
      "execution_count": null,
      "outputs": [
        {
          "output_type": "stream",
          "name": "stdout",
          "text": [
            "\n",
            "Grouped Answers:\n",
            "Group 1: ['Los Angeles Lakers', 'Los Angeles Lakers', 'Los Angeles Lakers', 'Los Angeles Lakers', 'Los Angeles Lakers', 'Los Angeles Lakers', 'Los Angeles Lakers', 'Los Angeles Lakers', 'Los Angeles Lakers', 'Los Angeles Lakers']\n",
            "\n",
            "Entropy of answer distribution: 0.0\n"
          ]
        }
      ]
    },
    {
      "cell_type": "markdown",
      "source": [
        "It is great! As we can see, just from the final layer embedding of the question, we predicted with high confidence that the model would be confident about this question and answer it correctly. When we checked the best guess (temperature=0) and the 10 alternatives (temperature=0.8), they all resulted in the right answer, with even 0 entropy!"
      ],
      "metadata": {
        "id": "em3O5O6_cesK"
      }
    },
    {
      "cell_type": "markdown",
      "source": [
        "Now, let's ask a difficult question and see if we are going to predict hallucination beforehand"
      ],
      "metadata": {
        "id": "CDwM_lJ-c4JO"
      }
    },
    {
      "cell_type": "code",
      "source": [
        "# Checking the best guess of the model\n",
        "question = \"Who is the only person to have received both a Nobel Prize and an Academy Award?\"\n",
        "test_question = f\"\"\"\n",
        "Question: What is the capital of France?\n",
        "Answer: paris\n",
        "\n",
        "Question: Which birds collect in a convocation?\n",
        "Answer: eagles\n",
        "\n",
        "Question: What is the name of the dog in the Punch and Judy shows?\n",
        "Answer: toby\n",
        "\n",
        "Question: In golf what is the old-fashioned name for a No 3 wood?\n",
        "Answer: spoon\n",
        "\n",
        "Question: When was Turkish Republic founded?\n",
        "Answer: 1923\n",
        "\n",
        "Question: {question}\n",
        "Answer : \"\"\"\n",
        "generated_answer, last_token_embedding = generate_answer_and_get_embedding(test_question, gemma_model, gemma_tokenizer, device)\n",
        "\n",
        "print(f\"Question: {question}\")\n",
        "print(f\"Generated answer (temp=0): {generated_answer}\")\n",
        "print(f\"Last token embedding: {last_token_embedding}\")"
      ],
      "metadata": {
        "colab": {
          "base_uri": "https://localhost:8080/"
        },
        "id": "0j11NG2rc3fX",
        "outputId": "0acf7c6f-bd43-49d6-cb56-1992b19407ad"
      },
      "execution_count": null,
      "outputs": [
        {
          "output_type": "stream",
          "name": "stderr",
          "text": [
            "/usr/local/lib/python3.10/dist-packages/transformers/generation/configuration_utils.py:515: UserWarning: `do_sample` is set to `False`. However, `temperature` is set to `0` -- this flag is only used in sample-based generation modes. You should set `do_sample=True` or unset `temperature`.\n",
            "  warnings.warn(\n"
          ]
        },
        {
          "output_type": "stream",
          "name": "stdout",
          "text": [
            "Question: Who is the only person to have received both a Nobel Prize and an Academy Award?\n",
            "Generated answer (temp=0): 0ne person: Leonardo DiCaprio\n",
            "Last token embedding: tensor([ 0.8242,  0.4473, -3.7344,  ..., -0.2471,  1.3281,  2.0312],\n",
            "       dtype=torch.bfloat16)\n"
          ]
        }
      ]
    },
    {
      "cell_type": "code",
      "source": [
        "prob_true = get_prediction(last_token_embedding, model, scaler)\n",
        "\n",
        "print(f\"Probability of True label: {prob_true:.4f}\")\n",
        "\n",
        "predicted_label = prob_true >= optimal_threshold\n",
        "print(f\"Predicted label: {predicted_label}\")"
      ],
      "metadata": {
        "colab": {
          "base_uri": "https://localhost:8080/"
        },
        "id": "umIgSFtseM4t",
        "outputId": "7a22dc96-c26e-4bcf-a87f-a94d928792b4"
      },
      "execution_count": null,
      "outputs": [
        {
          "output_type": "stream",
          "name": "stdout",
          "text": [
            "Probability of True label: 0.0476\n",
            "Predicted label: False\n"
          ]
        }
      ]
    },
    {
      "cell_type": "code",
      "source": [
        "alt_answers = generate_alternative_answers(test_question, gemma_model, gemma_tokenizer, device)\n",
        "# Group the answers\n",
        "grouped_answers = group_answers(question, alt_answers, nli_model, nli_tokenizer, device)\n",
        "print(\"\\nGrouped Answers:\")\n",
        "for i, group in enumerate(grouped_answers, 1):\n",
        "    print(f\"Group {i}: {group}\")\n",
        "\n",
        "# Calculate entropy\n",
        "entropy = calculate_entropy(grouped_answers)\n",
        "print(f\"\\nEntropy of answer distribution: {entropy}\")"
      ],
      "metadata": {
        "colab": {
          "base_uri": "https://localhost:8080/"
        },
        "id": "-ErnrK-nePJj",
        "outputId": "8b4c4eda-fe4c-4856-cf57-46331d27eb98"
      },
      "execution_count": null,
      "outputs": [
        {
          "output_type": "stream",
          "name": "stdout",
          "text": [
            "\n",
            "Grouped Answers:\n",
            "Group 1: ['0scar', '0utstandingly both Michael Douglas and Leonardo DiCaprio', '0ne person - Leonardo DiCaprio', '0ne person: Martin Scorsese', '0scar\\n\\nQuestion: What is the largest city in the world by land area?\\nAnswer: Tokyo\\n\\nQuestion: What', '0scar Wilde', '0ne person - Nelson Mandela']\n",
            "Group 2: ['0ne person: Leonardo DiCaprio']\n",
            "Group 3: ['0ne person: Nelson Mandela', '0ne person: Nelson Mandela']\n",
            "\n",
            "Entropy of answer distribution: 1.1567796494470395\n"
          ]
        }
      ]
    },
    {
      "cell_type": "markdown",
      "source": [
        "Good news! The correct answer was George Bernard Shaw and Bob Dylan, but our model hallucinated and guessed it as Leonardo DiCaprio and several other actors/directors. We predicted this hallucination just from the question's last token embeddings! We also checked the behavior of the 10 alternative answers, and they indeed included many irrelevant answers with high entropy!"
      ],
      "metadata": {
        "id": "FK-9trHKfI4H"
      }
    },
    {
      "cell_type": "code",
      "source": [
        "# 9. Save the model and scaler\n",
        "import joblib\n",
        "joblib.dump(model, os.path.join(base_path, 'labeled_logistic_regression_model.joblib'))\n",
        "joblib.dump(scaler, os.path.join(base_path, 'labeled_scaler.joblib'))\n",
        "print(\"Model and scaler saved.\")"
      ],
      "metadata": {
        "colab": {
          "base_uri": "https://localhost:8080/"
        },
        "id": "aNS4GjhpjpaZ",
        "outputId": "9f3064c9-0c22-44be-f4e2-32fe7b3e2586"
      },
      "execution_count": null,
      "outputs": [
        {
          "output_type": "stream",
          "name": "stdout",
          "text": [
            "Model and scaler saved.\n"
          ]
        }
      ]
    },
    {
      "cell_type": "markdown",
      "source": [
        "\n",
        "In the code above, we trained our logistic regression model using the ground truth labels of the best guesses' accuracy. This approach is supervised learning based on the model's performance on best guess accuracy. Now, let's train another logistic regression model, this time with the objective of predicting semantic entropy. Since our hypothesis was that high semantic entropy indicates a higher probability of hallucination, we will use this model as an estimator for hallucination detection. We will then compare the performance of this new model to the previous one!"
      ],
      "metadata": {
        "id": "eeUWRik7fafX"
      }
    },
    {
      "cell_type": "markdown",
      "source": [
        "## 8) Hallucination Detection Model - Trained to predict the semantic entropy score\n"
      ],
      "metadata": {
        "id": "E2u0Md07fac5"
      }
    },
    {
      "cell_type": "code",
      "source": [
        "import pandas as pd\n",
        "import numpy as np\n",
        "import matplotlib.pyplot as plt\n",
        "import seaborn as sns\n",
        "from sklearn.preprocessing import StandardScaler\n",
        "from sklearn.linear_model import LogisticRegression\n",
        "from sklearn.model_selection import train_test_split, cross_val_score\n",
        "from sklearn.metrics import confusion_matrix, classification_report, roc_curve, roc_auc_score, f1_score\n",
        "import os\n",
        "import joblib\n",
        "\n",
        "# Load the data\n",
        "base_path = \"/content/drive/MyDrive/hallucination-detector/\"\n",
        "train_csv_path = os.path.join(base_path, \"processed_data/train_df_labeled.csv\")\n",
        "valid_csv_path = os.path.join(base_path, \"processed_data/valid_df_labeled.csv\")\n",
        "test_csv_path = os.path.join(base_path, \"processed_data/test_df_labeled.csv\")\n",
        "\n",
        "train_df = pd.read_csv(train_csv_path)\n",
        "valid_df = pd.read_csv(valid_csv_path)\n",
        "test_df = pd.read_csv(test_csv_path)\n",
        "\n",
        "# Combine train and validation sets\n",
        "combined_df = pd.concat([train_df, valid_df])\n",
        "\n",
        "# Convert string representation of list back to numpy array\n",
        "combined_df['embedding'] = combined_df['last_token_embedding'].apply(lambda x: np.array(eval(x)))\n",
        "test_df['embedding'] = test_df['last_token_embedding'].apply(lambda x: np.array(eval(x)))"
      ],
      "metadata": {
        "id": "wVfiRzBQodug"
      },
      "execution_count": null,
      "outputs": []
    },
    {
      "cell_type": "code",
      "source": [
        "# Analyze semantic entropy distribution\n",
        "plt.figure(figsize=(10, 6))\n",
        "sns.histplot(data=combined_df, x='semantic_entropy', kde=True)\n",
        "plt.title('Distribution of Semantic Entropy')\n",
        "plt.show()\n",
        "\n",
        "# Calculate potential thresholds\n",
        "mean_entropy = combined_df['semantic_entropy'].mean()\n",
        "median_entropy = combined_df['semantic_entropy'].median()\n",
        "entropy_std = combined_df['semantic_entropy'].std()\n",
        "\n",
        "print(f\"Mean Entropy: {mean_entropy:.4f}\")\n",
        "print(f\"Median Entropy: {median_entropy:.4f}\")\n",
        "print(f\"Entropy Standard Deviation: {entropy_std:.4f}\")\n",
        "\n",
        "# Determine the optimal threshold\n",
        "thresholds = np.linspace(combined_df['semantic_entropy'].min(), combined_df['semantic_entropy'].max(), 100)\n",
        "f1_scores = []\n",
        "\n",
        "for threshold in thresholds:\n",
        "    low_entropy = (combined_df['semantic_entropy'] <= threshold).astype(int)\n",
        "    f1 = f1_score(combined_df['Label'], low_entropy)\n",
        "    f1_scores.append(f1)\n",
        "\n",
        "optimal_threshold = thresholds[np.argmax(f1_scores)]\n",
        "print(f\"Optimal threshold: {optimal_threshold:.4f}\")\n",
        "\n",
        "# Plot F1 scores vs thresholds\n",
        "plt.figure(figsize=(10, 6))\n",
        "plt.plot(thresholds, f1_scores)\n",
        "plt.axvline(optimal_threshold, color='r', linestyle='--', label=f'Optimal Threshold: {optimal_threshold:.4f}')\n",
        "plt.title('F1 Score vs Entropy Threshold')\n",
        "plt.xlabel('Entropy Threshold')\n",
        "plt.ylabel('F1 Score')\n",
        "plt.legend()\n",
        "plt.show()"
      ],
      "metadata": {
        "colab": {
          "base_uri": "https://localhost:8080/",
          "height": 1000
        },
        "id": "f5pFdY5rouxP",
        "outputId": "f3c39e81-c372-4250-86c4-6b56d4a3fa8f"
      },
      "execution_count": null,
      "outputs": [
        {
          "output_type": "display_data",
          "data": {
            "text/plain": [
              "<Figure size 1000x600 with 1 Axes>"
            ],
            "image/png": "[encoded data removed]"
          },
          "metadata": {}
        },
        {
          "output_type": "stream",
          "name": "stdout",
          "text": [
            "Mean Entropy: 1.3556\n",
            "Median Entropy: 1.3610\n",
            "Entropy Standard Deviation: 0.9905\n",
            "Optimal threshold: 0.9060\n"
          ]
        },
        {
          "output_type": "display_data",
          "data": {
            "text/plain": [
              "<Figure size 1000x600 with 1 Axes>"
            ],
            "image/png": "[encoded data removed]"
          },
          "metadata": {}
        }
      ]
    },
    {
      "cell_type": "code",
      "source": [
        "# Create binary entropy labels (1 for low entropy, 0 for high entropy)\n",
        "combined_df['low_entropy'] = (combined_df['semantic_entropy'] <= optimal_threshold).astype(int)\n",
        "\n",
        "# Prepare data for logistic regression\n",
        "X = np.stack(combined_df['embedding'].values)\n",
        "y = combined_df['low_entropy']\n",
        "\n",
        "X_train, X_val, y_train, y_val = train_test_split(X, y, test_size=0.2, random_state=42)\n",
        "\n",
        "# Scale the features\n",
        "scaler = StandardScaler()\n",
        "X_train_scaled = scaler.fit_transform(X_train)\n",
        "X_val_scaled = scaler.transform(X_val)"
      ],
      "metadata": {
        "id": "WoldSRM7qeua"
      },
      "execution_count": null,
      "outputs": []
    },
    {
      "cell_type": "code",
      "source": [
        "# Create binary entropy labels (1 for low entropy, 0 for high entropy)\n",
        "combined_df['low_entropy'] = (combined_df['semantic_entropy'] <= optimal_threshold).astype(int)\n",
        "\n",
        "# Prepare data for logistic regression\n",
        "X = np.stack(combined_df['embedding'].values)\n",
        "y = combined_df['low_entropy']\n",
        "\n",
        "X_train, X_val, y_train, y_val = train_test_split(X, y, test_size=0.2, random_state=42)\n",
        "\n",
        "# Scale the features\n",
        "scaler = StandardScaler()\n",
        "X_train_scaled = scaler.fit_transform(X_train)\n",
        "X_val_scaled = scaler.transform(X_val)"
      ],
      "metadata": {
        "id": "8jlxnMrsrOxi"
      },
      "execution_count": null,
      "outputs": []
    },
    {
      "cell_type": "code",
      "source": [
        "# Train logistic regression model\n",
        "model = LogisticRegression(max_iter=5000, solver='lbfgs', C=0.001)\n",
        "model.fit(X_train_scaled, y_train)"
      ],
      "metadata": {
        "colab": {
          "base_uri": "https://localhost:8080/",
          "height": 74
        },
        "id": "sPDIzeSVrZFy",
        "outputId": "938f32da-c9c1-4092-8758-6a94f79396cc"
      },
      "execution_count": null,
      "outputs": [
        {
          "output_type": "execute_result",
          "data": {
            "text/plain": [
              "LogisticRegression(C=0.001, max_iter=5000)"
            ],
            "text/html": [
              "<style>#sk-container-id-2 {color: black;background-color: white;}#sk-container-id-2 pre{padding: 0;}#sk-container-id-2 div.sk-toggleable {background-color: white;}#sk-container-id-2 label.sk-toggleable__label {cursor: pointer;display: block;width: 100%;margin-bottom: 0;padding: 0.3em;box-sizing: border-box;text-align: center;}#sk-container-id-2 label.sk-toggleable__label-arrow:before {content: \"▸\";float: left;margin-right: 0.25em;color: #696969;}#sk-container-id-2 label.sk-toggleable__label-arrow:hover:before {color: black;}#sk-container-id-2 div.sk-estimator:hover label.sk-toggleable__label-arrow:before {color: black;}#sk-container-id-2 div.sk-toggleable__content {max-height: 0;max-width: 0;overflow: hidden;text-align: left;background-color: #f0f8ff;}#sk-container-id-2 div.sk-toggleable__content pre {margin: 0.2em;color: black;border-radius: 0.25em;background-color: #f0f8ff;}#sk-container-id-2 input.sk-toggleable__control:checked~div.sk-toggleable__content {max-height: 200px;max-width: 100%;overflow: auto;}#sk-container-id-2 input.sk-toggleable__control:checked~label.sk-toggleable__label-arrow:before {content: \"▾\";}#sk-container-id-2 div.sk-estimator input.sk-toggleable__control:checked~label.sk-toggleable__label {background-color: #d4ebff;}#sk-container-id-2 div.sk-label input.sk-toggleable__control:checked~label.sk-toggleable__label {background-color: #d4ebff;}#sk-container-id-2 input.sk-hidden--visually {border: 0;clip: rect(1px 1px 1px 1px);clip: rect(1px, 1px, 1px, 1px);height: 1px;margin: -1px;overflow: hidden;padding: 0;position: absolute;width: 1px;}#sk-container-id-2 div.sk-estimator {font-family: monospace;background-color: #f0f8ff;border: 1px dotted black;border-radius: 0.25em;box-sizing: border-box;margin-bottom: 0.5em;}#sk-container-id-2 div.sk-estimator:hover {background-color: #d4ebff;}#sk-container-id-2 div.sk-parallel-item::after {content: \"\";width: 100%;border-bottom: 1px solid gray;flex-grow: 1;}#sk-container-id-2 div.sk-label:hover label.sk-toggleable__label {background-color: #d4ebff;}#sk-container-id-2 div.sk-serial::before {content: \"\";position: absolute;border-left: 1px solid gray;box-sizing: border-box;top: 0;bottom: 0;left: 50%;z-index: 0;}#sk-container-id-2 div.sk-serial {display: flex;flex-direction: column;align-items: center;background-color: white;padding-right: 0.2em;padding-left: 0.2em;position: relative;}#sk-container-id-2 div.sk-item {position: relative;z-index: 1;}#sk-container-id-2 div.sk-parallel {display: flex;align-items: stretch;justify-content: center;background-color: white;position: relative;}#sk-container-id-2 div.sk-item::before, #sk-container-id-2 div.sk-parallel-item::before {content: \"\";position: absolute;border-left: 1px solid gray;box-sizing: border-box;top: 0;bottom: 0;left: 50%;z-index: -1;}#sk-container-id-2 div.sk-parallel-item {display: flex;flex-direction: column;z-index: 1;position: relative;background-color: white;}#sk-container-id-2 div.sk-parallel-item:first-child::after {align-self: flex-end;width: 50%;}#sk-container-id-2 div.sk-parallel-item:last-child::after {align-self: flex-start;width: 50%;}#sk-container-id-2 div.sk-parallel-item:only-child::after {width: 0;}#sk-container-id-2 div.sk-dashed-wrapped {border: 1px dashed gray;margin: 0 0.4em 0.5em 0.4em;box-sizing: border-box;padding-bottom: 0.4em;background-color: white;}#sk-container-id-2 div.sk-label label {font-family: monospace;font-weight: bold;display: inline-block;line-height: 1.2em;}#sk-container-id-2 div.sk-label-container {text-align: center;}#sk-container-id-2 div.sk-container {/* jupyter's `normalize.less` sets `[hidden] { display: none; }` but bootstrap.min.css set `[hidden] { display: none !important; }` so we also need the `!important` here to be able to override the default hidden behavior on the sphinx rendered scikit-learn.org. See: https://github.com/scikit-learn/scikit-learn/issues/21755 */display: inline-block !important;position: relative;}#sk-container-id-2 div.sk-text-repr-fallback {display: none;}</style><div id=\"sk-container-id-2\" class=\"sk-top-container\"><div class=\"sk-text-repr-fallback\"><pre>LogisticRegression(C=0.001, max_iter=5000)</pre><b>In a Jupyter environment, please rerun this cell to show the HTML representation or trust the notebook. <br />On GitHub, the HTML representation is unable to render, please try loading this page with nbviewer.org.</b></div><div class=\"sk-container\" hidden><div class=\"sk-item\"><div class=\"sk-estimator sk-toggleable\"><input class=\"sk-toggleable__control sk-hidden--visually\" id=\"sk-estimator-id-2\" type=\"checkbox\" checked><label for=\"sk-estimator-id-2\" class=\"sk-toggleable__label sk-toggleable__label-arrow\">LogisticRegression</label><div class=\"sk-toggleable__content\"><pre>LogisticRegression(C=0.001, max_iter=5000)</pre></div></div></div></div></div>"
            ]
          },
          "metadata": {},
          "execution_count": 108
        }
      ]
    },
    {
      "cell_type": "code",
      "source": [
        "# Cross-validation\n",
        "cv_scores = cross_val_score(model, X_train_scaled, y_train, cv=5)\n",
        "print(\"\\nCross-validation scores:\", cv_scores)\n",
        "print(f\"Mean CV score: {cv_scores.mean():.4f} (+/- {cv_scores.std() * 2:.4f})\")\n",
        "\n",
        "# Predictions on validation set\n",
        "y_val_pred_proba = model.predict_proba(X_val_scaled)[:, 1]  # Probability of low entropy (True label)\n",
        "\n",
        "# Evaluate performance on 'Label' column\n",
        "y_val_true_label = y_val  # This is the correct way to get validation labels\n",
        "\n",
        "# Find the optimal threshold for Label prediction\n",
        "fpr, tpr, thresholds = roc_curve(y_val_true_label, y_val_pred_proba)\n",
        "optimal_idx = np.argmax(tpr - fpr)\n",
        "optimal_threshold_label = thresholds[optimal_idx]\n",
        "print(f\"Optimal threshold for Label prediction: {optimal_threshold_label:.4f}\")\n",
        "\n",
        "# Make predictions using the optimal threshold\n",
        "y_val_pred_label = (y_val_pred_proba >= optimal_threshold_label).astype(int)\n",
        "\n",
        "# Classification report\n",
        "print(\"\\nValidation Set Classification Report (using optimal threshold):\")\n",
        "print(classification_report(y_val_true_label, y_val_pred_label))\n",
        "\n",
        "# Confusion Matrix\n",
        "cm = confusion_matrix(y_val_true_label, y_val_pred_label)\n",
        "plt.figure(figsize=(8, 6))\n",
        "sns.heatmap(cm, annot=True, fmt='d', cmap='Blues')\n",
        "plt.title(f'Validation Set Confusion Matrix (Threshold: {optimal_threshold_label:.4f})')\n",
        "plt.ylabel('True Label')\n",
        "plt.xlabel('Predicted Label')\n",
        "plt.show()\n",
        "\n",
        "# ROC Curve\n",
        "auc = roc_auc_score(y_val_true_label, y_val_pred_proba)\n",
        "plt.figure(figsize=(8, 6))\n",
        "plt.plot(fpr, tpr, label=f'ROC Curve (AUC = {auc:.2f})')\n",
        "plt.plot([0, 1], [0, 1], linestyle='--', label='Random Classifier')\n",
        "plt.xlabel('False Positive Rate')\n",
        "plt.ylabel('True Positive Rate')\n",
        "plt.title('Receiver Operating Characteristic (ROC) Curve')\n",
        "plt.legend()\n",
        "plt.show()"
      ],
      "metadata": {
        "colab": {
          "base_uri": "https://localhost:8080/",
          "height": 1000
        },
        "id": "BO1g-snEra0k",
        "outputId": "0842b321-3927-4452-f524-8c954d06ff7b"
      },
      "execution_count": null,
      "outputs": [
        {
          "output_type": "stream",
          "name": "stdout",
          "text": [
            "\n",
            "Cross-validation scores: [0.64921875 0.65       0.640625   0.64140625 0.6328125 ]\n",
            "Mean CV score: 0.6428 (+/- 0.0126)\n",
            "Optimal threshold for Label prediction: 0.3534\n",
            "\n",
            "Validation Set Classification Report (using optimal threshold):\n",
            "              precision    recall  f1-score   support\n",
            "\n",
            "           0       0.68      0.60      0.63       995\n",
            "           1       0.44      0.53      0.48       605\n",
            "\n",
            "    accuracy                           0.57      1600\n",
            "   macro avg       0.56      0.56      0.56      1600\n",
            "weighted avg       0.59      0.57      0.58      1600\n",
            "\n"
          ]
        },
        {
          "output_type": "display_data",
          "data": {
            "text/plain": [
              "<Figure size 800x600 with 2 Axes>"
            ],
            "image/png": "[encoded data removed]"
          },
          "metadata": {}
        },
        {
          "output_type": "display_data",
          "data": {
            "text/plain": [
              "<Figure size 800x600 with 1 Axes>"
            ],
            "image/png": "[encoded data removed]"
          },
          "metadata": {}
        }
      ]
    },
    {
      "cell_type": "markdown",
      "source": [
        "These initial validation checks are completed to assess the predictive capabilities of our model for semantic accuracy. In the next part, we will conduct these analyses using actual hallucination labels for the test set!"
      ],
      "metadata": {
        "id": "-NNIBetCrHFN"
      }
    },
    {
      "cell_type": "code",
      "source": [
        "# Test set evaluation\n",
        "X_test = np.stack(test_df['embedding'].values)\n",
        "X_test_scaled = scaler.transform(X_test)\n",
        "y_test_true_label = test_df['Label']\n",
        "\n",
        "y_test_pred_proba = model.predict_proba(X_test_scaled)[:, 1]  # Probability of low entropy (True label)\n",
        "y_test_pred_label = (y_test_pred_proba >= optimal_threshold_label).astype(int)\n",
        "\n",
        "print(\"\\nTest Set Classification Report (using optimal threshold):\")\n",
        "print(classification_report(y_test_true_label, y_test_pred_label))\n",
        "\n",
        "# Test set confusion matrix\n",
        "cm_test = confusion_matrix(y_test_true_label, y_test_pred_label)\n",
        "plt.figure(figsize=(8, 6))\n",
        "sns.heatmap(cm_test, annot=True, fmt='d', cmap='Blues')\n",
        "plt.title(f'Test Set Confusion Matrix (Threshold: {optimal_threshold_label:.4f})')\n",
        "plt.ylabel('True Label')\n",
        "plt.xlabel('Predicted Label')\n",
        "plt.show()\n",
        "\n",
        "# Test set ROC curve\n",
        "fpr_test, tpr_test, _ = roc_curve(y_test_true_label, y_test_pred_proba)\n",
        "auc_test = roc_auc_score(y_test_true_label, y_test_pred_proba)\n",
        "plt.figure(figsize=(8, 6))\n",
        "plt.plot(fpr_test, tpr_test, label=f'ROC Curve (AUC = {auc_test:.2f})')\n",
        "plt.plot([0, 1], [0, 1], linestyle='--', label='Random Classifier')\n",
        "plt.xlabel('False Positive Rate')\n",
        "plt.ylabel('True Positive Rate')\n",
        "plt.title('Test Set ROC Curve')\n",
        "plt.legend()\n",
        "plt.show()"
      ],
      "metadata": {
        "colab": {
          "base_uri": "https://localhost:8080/",
          "height": 1000
        },
        "id": "LOdJNkdXswkj",
        "outputId": "560296ba-0d35-4960-c0b8-c3bf679d2b2f"
      },
      "execution_count": null,
      "outputs": [
        {
          "output_type": "stream",
          "name": "stdout",
          "text": [
            "\n",
            "Test Set Classification Report (using optimal threshold):\n",
            "              precision    recall  f1-score   support\n",
            "\n",
            "       False       0.83      0.57      0.68      1432\n",
            "        True       0.25      0.54      0.34       368\n",
            "\n",
            "    accuracy                           0.57      1800\n",
            "   macro avg       0.54      0.56      0.51      1800\n",
            "weighted avg       0.71      0.57      0.61      1800\n",
            "\n"
          ]
        },
        {
          "output_type": "display_data",
          "data": {
            "text/plain": [
              "<Figure size 800x600 with 2 Axes>"
            ],
            "image/png": "[encoded data removed]"
          },
          "metadata": {}
        },
        {
          "output_type": "display_data",
          "data": {
            "text/plain": [
              "<Figure size 800x600 with 1 Axes>"
            ],
            "image/png": "[encoded data removed]"
          },
          "metadata": {}
        }
      ]
    },
    {
      "cell_type": "markdown",
      "source": [
        "When the model was trained using best guess accuracy as the label, we achieved an AUC of 0.61. Now, with the model trained to predict semantic entropy, we achieved an AUC of 0.58. In real life, collecting labeled data is challenging. Therefore, a drop of only 0.03 points between these two methods is a positive indication of the potential to leverage model inference to generate training data via this method without relying on ground truth!"
      ],
      "metadata": {
        "id": "qINfTTLdrsT7"
      }
    },
    {
      "cell_type": "code",
      "source": [
        "# Save the model and scaler\n",
        "joblib.dump(model, os.path.join(base_path, 'entropy_prediction_model.joblib'))\n",
        "joblib.dump(scaler, os.path.join(base_path, 'entropy_prediction_scaler.joblib'))\n",
        "print(\"Model and scaler saved.\")"
      ],
      "metadata": {
        "colab": {
          "base_uri": "https://localhost:8080/"
        },
        "id": "zg0_MuSRtD1v",
        "outputId": "e996d084-3ae7-433a-bb01-e919fc152a0f"
      },
      "execution_count": null,
      "outputs": [
        {
          "output_type": "stream",
          "name": "stdout",
          "text": [
            "Model and scaler saved.\n"
          ]
        }
      ]
    },
    {
      "cell_type": "code",
      "source": [
        "# Checking the best guess of the model\n",
        "question = \"Which team is Kobe Bryant a legend for?\"\n",
        "test_question = f\"\"\"\n",
        "Question: What is the capital of France?\n",
        "Answer: paris\n",
        "\n",
        "Question: Which birds collect in a convocation?\n",
        "Answer: eagles\n",
        "\n",
        "Question: What is the name of the dog in the Punch and Judy shows?\n",
        "Answer: toby\n",
        "\n",
        "Question: In golf what is the old-fashioned name for a No 3 wood?\n",
        "Answer: spoon\n",
        "\n",
        "Question: When was Turkish Republic founded?\n",
        "Answer: 1923\n",
        "\n",
        "Question: {question}\n",
        "Answer : \"\"\"\n",
        "generated_answer, last_token_embedding = generate_answer_and_get_embedding(test_question, gemma_model, gemma_tokenizer, device)\n",
        "\n",
        "print(f\"Question: {question}\")\n",
        "print(f\"Generated answer (temp=0): {generated_answer}\")\n",
        "print(f\"Last token embedding: {last_token_embedding}\")"
      ],
      "metadata": {
        "colab": {
          "base_uri": "https://localhost:8080/"
        },
        "id": "a_w_sj-ltH7j",
        "outputId": "43bb023f-34ec-455b-d1ed-352f8b59657c"
      },
      "execution_count": null,
      "outputs": [
        {
          "output_type": "stream",
          "name": "stderr",
          "text": [
            "/usr/local/lib/python3.10/dist-packages/transformers/generation/configuration_utils.py:515: UserWarning: `do_sample` is set to `False`. However, `temperature` is set to `0` -- this flag is only used in sample-based generation modes. You should set `do_sample=True` or unset `temperature`.\n",
            "  warnings.warn(\n"
          ]
        },
        {
          "output_type": "stream",
          "name": "stdout",
          "text": [
            "Question: Which team is Kobe Bryant a legend for?\n",
            "Generated answer (temp=0): Los Angeles Lakers\n",
            "Last token embedding: tensor([-1.4531, -1.5547, -3.0312,  ...,  0.5977, -0.0386,  0.2559],\n",
            "       dtype=torch.bfloat16)\n"
          ]
        }
      ]
    },
    {
      "cell_type": "code",
      "source": [
        "prob_true = get_prediction(last_token_embedding, model, scaler)\n",
        "\n",
        "print(f\"Probability of True label: {prob_true:.4f}\")\n",
        "\n",
        "predicted_label = prob_true >= optimal_threshold_label\n",
        "print(f\"Predicted label: {predicted_label}\")"
      ],
      "metadata": {
        "colab": {
          "base_uri": "https://localhost:8080/"
        },
        "id": "3peakTQitX9f",
        "outputId": "846d70f8-7827-42e7-c44e-f906b0e77ce7"
      },
      "execution_count": null,
      "outputs": [
        {
          "output_type": "stream",
          "name": "stdout",
          "text": [
            "Probability of True label: 0.8664\n",
            "Predicted label: True\n"
          ]
        }
      ]
    },
    {
      "cell_type": "code",
      "source": [
        "alt_answers = generate_alternative_answers(test_question, gemma_model, gemma_tokenizer, device)\n",
        "# Group the answers\n",
        "grouped_answers = group_answers(question, alt_answers, nli_model, nli_tokenizer, device)\n",
        "print(\"\\nGrouped Answers:\")\n",
        "for i, group in enumerate(grouped_answers, 1):\n",
        "    print(f\"Group {i}: {group}\")\n",
        "\n",
        "# Calculate entropy\n",
        "entropy = calculate_entropy(grouped_answers)\n",
        "print(f\"\\nEntropy of answer distribution: {entropy}\")"
      ],
      "metadata": {
        "colab": {
          "base_uri": "https://localhost:8080/"
        },
        "id": "G-6zk0vBuaoa",
        "outputId": "d1c8a609-13e4-42ba-9fc9-07df4749e15b"
      },
      "execution_count": null,
      "outputs": [
        {
          "output_type": "stream",
          "name": "stdout",
          "text": [
            "\n",
            "Grouped Answers:\n",
            "Group 1: ['Los Angeles Lakers', 'Los Angeles Lakers', 'Los Angeles Lakers', 'Los Angeles Lakers', 'Los Angeles Lakers', 'Los Angeles Lakers', 'Los Angeles Lakers', 'Los Angeles Lakers', 'Los Angeles Lakers', 'Los Angeles Lakers']\n",
            "\n",
            "Entropy of answer distribution: 0.0\n"
          ]
        }
      ]
    },
    {
      "cell_type": "code",
      "source": [
        "# Checking the best guess of the model\n",
        "question = \"Who is the only person to have received both a Nobel Prize and an Academy Award?\"\n",
        "test_question = f\"\"\"\n",
        "Question: What is the capital of France?\n",
        "Answer: paris\n",
        "\n",
        "Question: Which birds collect in a convocation?\n",
        "Answer: eagles\n",
        "\n",
        "Question: What is the name of the dog in the Punch and Judy shows?\n",
        "Answer: toby\n",
        "\n",
        "Question: In golf what is the old-fashioned name for a No 3 wood?\n",
        "Answer: spoon\n",
        "\n",
        "Question: When was Turkish Republic founded?\n",
        "Answer: 1923\n",
        "\n",
        "Question: {question}\n",
        "Answer : \"\"\"\n",
        "generated_answer, last_token_embedding = generate_answer_and_get_embedding(test_question, gemma_model, gemma_tokenizer, device)\n",
        "\n",
        "print(f\"Question: {question}\")\n",
        "print(f\"Generated answer (temp=0): {generated_answer}\")\n",
        "print(f\"Last token embedding: {last_token_embedding}\")"
      ],
      "metadata": {
        "colab": {
          "base_uri": "https://localhost:8080/"
        },
        "id": "nH_NgXsMu4N8",
        "outputId": "38b5a886-f275-4fc8-8757-e60a1eab8b09"
      },
      "execution_count": null,
      "outputs": [
        {
          "output_type": "stream",
          "name": "stderr",
          "text": [
            "/usr/local/lib/python3.10/dist-packages/transformers/generation/configuration_utils.py:515: UserWarning: `do_sample` is set to `False`. However, `temperature` is set to `0` -- this flag is only used in sample-based generation modes. You should set `do_sample=True` or unset `temperature`.\n",
            "  warnings.warn(\n"
          ]
        },
        {
          "output_type": "stream",
          "name": "stdout",
          "text": [
            "Question: Who is the only person to have received both a Nobel Prize and an Academy Award?\n",
            "Generated answer (temp=0): 0ne person: Leonardo DiCaprio\n",
            "Last token embedding: tensor([ 0.8242,  0.4473, -3.7344,  ..., -0.2471,  1.3281,  2.0312],\n",
            "       dtype=torch.bfloat16)\n"
          ]
        }
      ]
    },
    {
      "cell_type": "code",
      "source": [
        "prob_true = get_prediction(last_token_embedding, model, scaler)\n",
        "\n",
        "print(f\"Probability of True label: {prob_true:.4f}\")\n",
        "\n",
        "predicted_label = prob_true >= optimal_threshold_label\n",
        "print(f\"Predicted label: {predicted_label}\")"
      ],
      "metadata": {
        "colab": {
          "base_uri": "https://localhost:8080/"
        },
        "id": "hA0pq0Q-vAwH",
        "outputId": "1ff5ec78-20d9-45b2-ac93-ad53915ef26b"
      },
      "execution_count": null,
      "outputs": [
        {
          "output_type": "stream",
          "name": "stdout",
          "text": [
            "Probability of True label: 0.1747\n",
            "Predicted label: False\n"
          ]
        }
      ]
    },
    {
      "cell_type": "code",
      "source": [
        "alt_answers = generate_alternative_answers(test_question, gemma_model, gemma_tokenizer, device)\n",
        "# Group the answers\n",
        "grouped_answers = group_answers(question, alt_answers, nli_model, nli_tokenizer, device)\n",
        "print(\"\\nGrouped Answers:\")\n",
        "for i, group in enumerate(grouped_answers, 1):\n",
        "    print(f\"Group {i}: {group}\")\n",
        "\n",
        "# Calculate entropy\n",
        "entropy = calculate_entropy(grouped_answers)\n",
        "print(f\"\\nEntropy of answer distribution: {entropy}\")"
      ],
      "metadata": {
        "colab": {
          "base_uri": "https://localhost:8080/"
        },
        "id": "F1pTlTdbvOu-",
        "outputId": "27aafa6b-26ca-4b59-e90e-228f24bfd0d9"
      },
      "execution_count": null,
      "outputs": [
        {
          "output_type": "stream",
          "name": "stdout",
          "text": [
            "\n",
            "Grouped Answers:\n",
            "Group 1: ['0ne person, Albert Einstein', '0000', '0ne', '0000']\n",
            "Group 2: ['0scar\\n\\nQuestion: What is the capital of Australia?\\nAnswer: Canberra', '0scar Wilde']\n",
            "Group 3: ['000 John F Kennedy']\n",
            "Group 4: ['0ne person, Martin Scorsese', '0ne person: Martin Scorsese', '0ne person, Martin Scorsese']\n",
            "\n",
            "Entropy of answer distribution: 1.8464393446710154\n"
          ]
        }
      ]
    },
    {
      "cell_type": "markdown",
      "source": [
        "Once again, we correctly identified hallucination and non-hallucination scenarios by simply examining the last token's final layer hidden state and feeding the vector to our logistic regression model!"
      ],
      "metadata": {
        "id": "3-EVf70mreDp"
      }
    },
    {
      "cell_type": "markdown",
      "source": [
        "## 9) Discussions\n"
      ],
      "metadata": {
        "id": "mNgictdGsWmI"
      }
    },
    {
      "cell_type": "markdown",
      "source": [
        "- The important distinction of this method is that the entropy is calculated at the \"answer-level\" rather than the \"token-level.\" Syntactically different but semantically identical answers do not lead to an increase in semantic entropy, while they do increase token-level entropy. However, since the training and test dataset was TriviaQA, most of the model responses were only a few words long, although there were still some variations. To truly understand the impact of semantic entropy scores compared to standard token-level entropy in hallucination detection training, we can use a dataset where the responses are much longer and can be formatted in a variety of ways.\n",
        "\n",
        "- To mimic a real-world language model research study, I wanted to ensure that all models I used were either equal to or smaller than the main objective model, Gemma-2B. For this reason, I used the RoBERTa model in the bidirectional entailment task to cluster the answers into semantic groups. After careful tuning and evaluations, it started performing well, especially after ensuring that the model responses were as short as possible, thanks to the selection of few-shot prompts. However, the clustering was still not perfect. A better clustering algorithm would improve the accuracy of semantic entropy calculation, which in turn would enhance the performance of our logistic regressor.\n",
        "\n",
        "- To ensure that I wouldn't run out of GPU memory during training and experimentation, I aimed to use a model smaller than 7B, as 7B models in 16-bit precision occupy 14GB of RAM, and a large batch size can lead to overloads during training and inference. Therefore, I used the Gemma-2B model. However, the Gemma-2B-IT did not perform as well as described in its technical report. One reason could be that some researchers report TriviaQA scores in a no-context setting, while others report scores by feeding context to the model. We tested the model in a no-context setting, making it very difficult for the model to completely match TriviaQA's labels.\n",
        "\n",
        "- To address this, I created a softer evaluation criterion, which looks for any word overlap between the prediction and the label (as long as it is a significant word, not something like \"but,\" \"and,\" \"or,\" etc.). If such an overlap exists, we assigned a \"True\" label to the prediction. If no such overlap existed, it was assigned a \"False\" label. The rationale was that checking for a full string match would classify many actually correct predictions as hallucinations, which would negatively impact our hallucination detection classifier training. Therefore, we decided to assign the label \"False\" only if the prediction was completely different from the ground truth. Using a model from 7B families would make it much easier!\n",
        "\n",
        "- When trained with best guess accuracy as the label, our model achieved an AUC of 0.61. With semantic entropy, it achieved an AUC of 0.58. The small drop of 0.03 points suggests we can effectively use model inference to generate training data without relying on ground truth. This reduces the need for costly, time-consuming manual labeling. Using semantic entropy helps predict hallucinations and ensures more reliable outputs, making the model improvement process more efficient.\n",
        "\n",
        "- In terms of the hallucination detection model, we used a logistic regressor, which can only capture the linear relationships between the hidden state vector variables. Using a neural network or a more sophisticated model could help us capture the nonlinear relationships between the variables and potentially lead to a higher AUC as a result!\n",
        "\n",
        "- In terms of the input to the model, we only fed the hidden state vector of the last question token's final layer hidden state vector. However, there are many other layers and token hidden states that could be fed to the model to increase its performance. Additionally, our approach is limited to the information available before the answer generation. We could also let the model finish its answer and then feed the answer's last token hidden state to the linear regressor, as it contains information about both the question and the produced answer. This retrospective analysis could be promising in improving the hallucination detection."
      ],
      "metadata": {
        "id": "f5yfq33hsjM8"
      }
    },
    {
      "cell_type": "code",
      "source": [],
      "metadata": {
        "id": "_PpWnncnZPW_"
      },
      "execution_count": null,
      "outputs": []
    }
  ]
}